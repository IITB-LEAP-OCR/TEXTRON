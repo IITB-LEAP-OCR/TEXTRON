{
 "cells": [
  {
   "cell_type": "code",
   "execution_count": 22,
   "id": "b1bcb4cf",
   "metadata": {},
   "outputs": [],
   "source": [
    "import cv2\n",
    "import os\n",
    "import pickle\n",
    "from skimage import color\n",
    "from skimage.filters import threshold_otsu\n",
    "import numpy as np"
   ]
  },
  {
   "cell_type": "code",
   "execution_count": 23,
   "id": "33e4023c",
   "metadata": {},
   "outputs": [],
   "source": [
    "def binarize_image(image):\n",
    "    \"\"\"\n",
    "    _summary_\n",
    "\n",
    "    Args:\n",
    "        image (_type_): _description_\n",
    "\n",
    "    Returns:\n",
    "        _type_: _description_\n",
    "    \"\"\"\n",
    "    image = color.rgb2gray(image)\n",
    "    thresh = threshold_otsu(image)\n",
    "    image = image > thresh\n",
    "    return image\n",
    "\n",
    "def get_contour_labels(image):\n",
    "    \"\"\"\n",
    "    _summary_\n",
    "\n",
    "    Args:\n",
    "        image (_type_): _description_\n",
    "\n",
    "    Returns:\n",
    "        _type_: _description_\n",
    "    \"\"\"\n",
    "    # print(\"CONTOUR LABELS\")\n",
    "    gray = cv2.cvtColor(image, cv2.COLOR_BGR2GRAY)\n",
    "\n",
    "    # Convert the grayscale image to binary\n",
    "    ret, binary = cv2.threshold(gray, 100, 255, cv2.THRESH_OTSU)\n",
    "\n",
    "    # To detect object contours, we want a black background and a white \n",
    "    # foreground, so we invert the image (i.e. 255 - pixel value)\n",
    "    inverted_binary = ~binary\n",
    "\n",
    "    # Find the contours on the inverted binary image, and store them in a list\n",
    "    # Contours are drawn around white blobs.\n",
    "    # hierarchy variable contains info on the relationship between the contours\n",
    "    contours, hierarchy = cv2.findContours(inverted_binary,\n",
    "    cv2.RETR_TREE,\n",
    "    cv2.CHAIN_APPROX_SIMPLE)\n",
    "\n",
    "    #This is inmtermediate contour image having red contours plotted along the letters\n",
    "    with_contours_int = cv2.drawContours(image, contours, -1,(0,0,255),2)\n",
    "\n",
    "    #We again perform binarization of above image inorder to find contours again \n",
    "    gray_contour = cv2.cvtColor(with_contours_int, cv2.COLOR_BGR2GRAY)\n",
    "\n",
    "    ret, binary_contour = cv2.threshold(gray_contour, 100, 255, \n",
    "    cv2.THRESH_OTSU)\n",
    "    inverted_contour = ~binary_contour\n",
    "\n",
    "    # We find contours again of this inverted binary map so that word boundaries are detected\n",
    "    contours, hierarchy = cv2.findContours(inverted_contour,\n",
    "    cv2.RETR_TREE,\n",
    "    cv2.CHAIN_APPROX_SIMPLE)\n",
    "\n",
    "    bboxes = []\n",
    "    # Draw a bounding box around all contours\n",
    "    for c in contours:\n",
    "        x, y, w, h = cv2.boundingRect(c)\n",
    "        # Make sure contour area is large enough\n",
    "        if (cv2.contourArea(c)) > 20:\n",
    "            #cv2.rectangle(origimage,(x,y), (x+w,y+h), (0,0,0), cv2.FILLED)\n",
    "            bboxes.append([x, y, w, h])\n",
    "\n",
    "    final_img = np.zeros((1024, 1024, 3), dtype = np.uint8)\n",
    "    for b in bboxes:\n",
    "        x = b[0]\n",
    "        y = b[1]\n",
    "        w = b[2]\n",
    "        h = b[3]\n",
    "        cv2.rectangle(final_img,(x,y), (x+w,y+h), (255, 255, 255), cv2.FILLED)\n",
    "\n",
    "    final_img = ~final_img\n",
    "    final_img = binarize_image(final_img)\n",
    "    final_img = final_img*1\n",
    "    return final_img"
   ]
  },
  {
   "cell_type": "code",
   "execution_count": 24,
   "id": "47219c04",
   "metadata": {},
   "outputs": [],
   "source": [
    "location = './../../temp_data/images/'\n",
    "output_dir = './../../temp_data/results/img_processing/'\n",
    "dir_list = os.listdir(location)"
   ]
  },
  {
   "cell_type": "code",
   "execution_count": 25,
   "id": "4bd79a9f",
   "metadata": {},
   "outputs": [],
   "source": [
    "pixels = {}\n",
    "\n",
    "for image in dir_list:\n",
    "    img = cv2.imread(location + image)\n",
    "    ans = get_contour_labels(img)\n",
    "    pixels[image] = ans"
   ]
  },
  {
   "cell_type": "code",
   "execution_count": 26,
   "id": "826e7442",
   "metadata": {},
   "outputs": [],
   "source": [
    "with open(output_dir+'contour.pkl', 'wb') as outp:  # Overwrites any existing file.\n",
    "    pickle.dump(pixels, outp, pickle.HIGHEST_PROTOCOL)"
   ]
  }
 ],
 "metadata": {
  "kernelspec": {
   "display_name": "Python 3 (ipykernel)",
   "language": "python",
   "name": "python3"
  },
  "language_info": {
   "codemirror_mode": {
    "name": "ipython",
    "version": 3
   },
   "file_extension": ".py",
   "mimetype": "text/x-python",
   "name": "python",
   "nbconvert_exporter": "python",
   "pygments_lexer": "ipython3",
   "version": "3.8.10"
  }
 },
 "nbformat": 4,
 "nbformat_minor": 5
}
