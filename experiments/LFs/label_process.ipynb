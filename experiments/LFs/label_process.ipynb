{
 "cells": [
  {
   "cell_type": "markdown",
   "id": "a45af203",
   "metadata": {},
   "source": [
    "### Imports"
   ]
  },
  {
   "cell_type": "code",
   "execution_count": 1,
   "id": "46bef242",
   "metadata": {},
   "outputs": [],
   "source": [
    "import os\n",
    "import pickle\n",
    "from skimage import io, color\n",
    "from skimage.filters import threshold_otsu\n",
    "\n",
    "from PIL import Image"
   ]
  },
  {
   "cell_type": "markdown",
   "id": "15348725",
   "metadata": {},
   "source": [
    "### Functions"
   ]
  },
  {
   "cell_type": "code",
   "execution_count": 2,
   "id": "1a01efdc",
   "metadata": {},
   "outputs": [],
   "source": [
    "def process_image(image):\n",
    "    image = color.rgb2gray(image)\n",
    "    \n",
    "    thresh = threshold_otsu(image)\n",
    "    image = image > thresh\n",
    "    return image\n",
    "\n",
    "def resize_image(new_dim, image):\n",
    "    new_image = image.resize(new_dim)\n",
    "    return new_image"
   ]
  },
  {
   "cell_type": "code",
   "execution_count": 3,
   "id": "1e1b6644",
   "metadata": {},
   "outputs": [],
   "source": [
    "location = './../../temp_data/labels/'\n",
    "location2 = './../../temp_data/train/'\n",
    "location3 = './../../temp_data/images/'\n",
    "output_dir = './../../temp_data/results/'\n",
    "dir_list = os.listdir(location)"
   ]
  },
  {
   "cell_type": "code",
   "execution_count": 27,
   "id": "12cc3714",
   "metadata": {},
   "outputs": [],
   "source": [
    "for img in dir_list:\n",
    "    name = img[:len(img) - 7]\n",
    "    img1_size = Image.open(location + img).size\n",
    "    image2 = Image.open(location2 + name + 'ori.jpg')\n",
    "    pro_img = resize_image(img1_size, image2)\n",
    "    pro_img.save(location3 + name + 'pro.jpg')   "
   ]
  },
  {
   "cell_type": "code",
   "execution_count": 15,
   "id": "2b69c8b0",
   "metadata": {},
   "outputs": [],
   "source": [
    "val = '10.tar_1701.04170.gz_TPNL_afterglow_evo_8_pro.jpg'\n",
    "img = io.imread(location3 + val)"
   ]
  },
  {
   "cell_type": "code",
   "execution_count": 16,
   "id": "47b978ed",
   "metadata": {},
   "outputs": [
    {
     "data": {
      "text/plain": [
       "(792, 612, 3)"
      ]
     },
     "execution_count": 16,
     "metadata": {},
     "output_type": "execute_result"
    }
   ],
   "source": [
    "img.shape"
   ]
  },
  {
   "cell_type": "code",
   "execution_count": 13,
   "id": "7b3c8978",
   "metadata": {},
   "outputs": [],
   "source": [
    "img = process_image(img)"
   ]
  },
  {
   "cell_type": "code",
   "execution_count": 14,
   "id": "c379b8a2",
   "metadata": {},
   "outputs": [
    {
     "data": {
      "text/plain": [
       "(792, 612)"
      ]
     },
     "execution_count": 14,
     "metadata": {},
     "output_type": "execute_result"
    }
   ],
   "source": [
    "img"
   ]
  },
  {
   "cell_type": "code",
   "execution_count": null,
   "id": "e456b4f9",
   "metadata": {},
   "outputs": [],
   "source": []
  },
  {
   "cell_type": "code",
   "execution_count": 28,
   "id": "2e69a44a",
   "metadata": {},
   "outputs": [],
   "source": [
    "pixels = {}\n",
    "\n",
    "for image in dir_list:\n",
    "    img = io.imread(location + image)\n",
    "    img = process_image(img)\n",
    "    img = img*1\n",
    "    pixels[image] = img"
   ]
  },
  {
   "cell_type": "markdown",
   "id": "67ecc7a0",
   "metadata": {},
   "source": [
    "### Storing Results"
   ]
  },
  {
   "cell_type": "code",
   "execution_count": 29,
   "id": "ca5baa51",
   "metadata": {},
   "outputs": [],
   "source": [
    "with open(output_dir+'pixels.pkl', 'wb') as outp:  # Overwrites any existing file.\n",
    "    pickle.dump(pixels, outp, pickle.HIGHEST_PROTOCOL)"
   ]
  }
 ],
 "metadata": {
  "kernelspec": {
   "display_name": "Python 3 (ipykernel)",
   "language": "python",
   "name": "python3"
  },
  "language_info": {
   "codemirror_mode": {
    "name": "ipython",
    "version": 3
   },
   "file_extension": ".py",
   "mimetype": "text/x-python",
   "name": "python",
   "nbconvert_exporter": "python",
   "pygments_lexer": "ipython3",
   "version": "3.8.10"
  }
 },
 "nbformat": 4,
 "nbformat_minor": 5
}
