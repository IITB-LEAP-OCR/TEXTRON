{
 "cells": [
  {
   "cell_type": "markdown",
   "id": "611b8c70",
   "metadata": {},
   "source": [
    "### Imports"
   ]
  },
  {
   "cell_type": "code",
   "execution_count": 1,
   "id": "1acb7bc6",
   "metadata": {},
   "outputs": [],
   "source": [
    "import os\n",
    "import pickle\n",
    "import cv2\n",
    "\n",
    "from doctr.io import DocumentFile\n",
    "from doctr.models import ocr_predictor\n",
    "\n",
    "from skimage import io, color\n",
    "from skimage.filters import threshold_otsu"
   ]
  },
  {
   "cell_type": "markdown",
   "id": "bd3ef14b",
   "metadata": {},
   "source": [
    "### Functions"
   ]
  },
  {
   "cell_type": "code",
   "execution_count": 2,
   "id": "a5ba2fa8",
   "metadata": {},
   "outputs": [],
   "source": [
    "def process_image(image):\n",
    "    image = color.rgb2gray(image)\n",
    "    \n",
    "    thresh = threshold_otsu(image)\n",
    "    image = image > thresh\n",
    "    return image"
   ]
  },
  {
   "cell_type": "markdown",
   "id": "bb83dd36",
   "metadata": {},
   "source": [
    "### DocTR model loading"
   ]
  },
  {
   "cell_type": "code",
   "execution_count": 3,
   "id": "d9d1d169",
   "metadata": {},
   "outputs": [],
   "source": [
    "input_dir  = './../../temp_data/images/'\n",
    "output_dir = './../../temp_data/results/doctr/'"
   ]
  },
  {
   "cell_type": "code",
   "execution_count": 4,
   "id": "fd350591",
   "metadata": {},
   "outputs": [
    {
     "name": "stderr",
     "output_type": "stream",
     "text": [
      "/home/venkat/BADRI/venv/lib/python3.8/site-packages/torchvision/models/_utils.py:135: UserWarning: Using 'weights' as positional parameter(s) is deprecated since 0.13 and may be removed in the future. Please use keyword parameter(s) instead.\n",
      "  warnings.warn(\n",
      "/home/venkat/BADRI/venv/lib/python3.8/site-packages/torchvision/models/_utils.py:223: UserWarning: Arguments other than a weight enum or `None` for 'weights' are deprecated since 0.13 and may be removed in the future. The current behavior is equivalent to passing `weights=None`.\n",
      "  warnings.warn(msg)\n"
     ]
    }
   ],
   "source": [
    "model = ocr_predictor(pretrained=True)"
   ]
  },
  {
   "cell_type": "markdown",
   "id": "e09ef91b",
   "metadata": {},
   "source": [
    "### Get Results"
   ]
  },
  {
   "cell_type": "code",
   "execution_count": 5,
   "id": "7ddb8b65",
   "metadata": {},
   "outputs": [],
   "source": [
    "dir_list = os.listdir(input_dir)\n",
    "results = {}\n",
    "images = []\n",
    "\n",
    "for image in dir_list:\n",
    "    doc = DocumentFile.from_images(input_dir+image)\n",
    "    result = model(doc)\n",
    "    results[image] = result\n",
    "    images.append(image)\n",
    "    \n",
    "# for i in range(len(results)):\n",
    "#     results[i].show(docs[i])"
   ]
  },
  {
   "cell_type": "code",
   "execution_count": 6,
   "id": "9d9a4e98",
   "metadata": {
    "scrolled": true
   },
   "outputs": [],
   "source": [
    "dimensions = {}\n",
    "pixels = {}\n",
    "for image,result in results.items():\n",
    "    dim = tuple(reversed(result.pages[0].dimensions))\n",
    "    values = []\n",
    "    img = io.imread(os.path.join(input_dir,image))\n",
    "    for block in result.pages[0].blocks:\n",
    "        for line in block.lines:\n",
    "            for word in line.words:\n",
    "                geo = word.geometry\n",
    "                a = list(a*b for a,b in zip(geo[0],dim))\n",
    "                b = list(a*b for a,b in zip(geo[1],dim))\n",
    "                values.append(a+b)\n",
    "                cv2.rectangle(img, (int(a[0]), int(a[1])), (int(b[0]), int(b[1])), (0, 0, 0), -1)\n",
    "    dimensions[image] = values\n",
    "    img = process_image(img)\n",
    "    img = img*1\n",
    "    pixels[image] = img\n",
    "#     io.imsave(output_dir + 'images/' + image, img)"
   ]
  },
  {
   "cell_type": "markdown",
   "id": "08f3a627",
   "metadata": {},
   "source": [
    "### Store Results"
   ]
  },
  {
   "cell_type": "code",
   "execution_count": 7,
   "id": "0d1e5c37",
   "metadata": {},
   "outputs": [],
   "source": [
    "with open(output_dir+'results.pkl', 'wb') as outp:  # Overwrites any existing file.\n",
    "    pickle.dump(results, outp, pickle.HIGHEST_PROTOCOL)\n",
    "    \n",
    "with open(output_dir+'pixels.pkl', 'wb') as outp:  # Overwrites any existing file.\n",
    "    pickle.dump(pixels, outp, pickle.HIGHEST_PROTOCOL)\n",
    "    \n",
    "with open(output_dir+'dimensions.pkl', 'wb') as outp:  # Overwrites any existing file.\n",
    "    pickle.dump(dimensions, outp, pickle.HIGHEST_PROTOCOL)"
   ]
  }
 ],
 "metadata": {
  "kernelspec": {
   "display_name": "Python 3 (ipykernel)",
   "language": "python",
   "name": "python3"
  },
  "language_info": {
   "codemirror_mode": {
    "name": "ipython",
    "version": 3
   },
   "file_extension": ".py",
   "mimetype": "text/x-python",
   "name": "python",
   "nbconvert_exporter": "python",
   "pygments_lexer": "ipython3",
   "version": "3.8.10"
  }
 },
 "nbformat": 4,
 "nbformat_minor": 5
}
