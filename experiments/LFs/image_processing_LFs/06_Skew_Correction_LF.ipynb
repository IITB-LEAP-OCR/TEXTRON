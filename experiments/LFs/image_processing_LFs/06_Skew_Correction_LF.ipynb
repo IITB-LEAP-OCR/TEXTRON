{
 "cells": [
  {
   "attachments": {},
   "cell_type": "markdown",
   "metadata": {},
   "source": [
    "<h2>Skew Correction Using Projection Profile<h2>"
   ]
  },
  {
   "attachments": {},
   "cell_type": "markdown",
   "metadata": {},
   "source": [
    "<h3>Imports<h3>"
   ]
  },
  {
   "cell_type": "code",
   "execution_count": 39,
   "metadata": {},
   "outputs": [],
   "source": [
    "import cv2\n",
    "import numpy as np\n",
    "from pathlib import Path\n",
    "from scipy.ndimage import interpolation\n",
    "from matplotlib import pyplot as plt\n",
    "from IPython.display import Image\n",
    "from PIL import Image\n",
    "%matplotlib inline"
   ]
  },
  {
   "attachments": {},
   "cell_type": "markdown",
   "metadata": {},
   "source": [
    "<h3>Functions<h3>"
   ]
  },
  {
   "cell_type": "code",
   "execution_count": 40,
   "metadata": {},
   "outputs": [
    {
     "name": "stderr",
     "output_type": "stream",
     "text": [
      "C:\\Users\\lenovo\\AppData\\Local\\Temp\\ipykernel_42656\\3116702985.py:3: DeprecationWarning: Please use `rotate` from the `scipy.ndimage` namespace, the `scipy.ndimage.interpolation` namespace is deprecated.\n",
      "  data = interpolation.rotate(arr, angle, reshape=False, order=0)\n"
     ]
    },
    {
     "data": {
      "text/plain": [
       "(2501, 1891, 3)"
      ]
     },
     "metadata": {},
     "output_type": "display_data"
    },
    {
     "name": "stdout",
     "output_type": "stream",
     "text": [
      "6.0\n"
     ]
    }
   ],
   "source": [
    "def skew_correction(image, delta=0.5, limit=25):\n",
    "    def score_calculation(arr, angle):\n",
    "        data = interpolation.rotate(arr, angle, reshape=False, order=0)\n",
    "        histogram = np.sum(data, axis=1, dtype=float)\n",
    "        score = np.sum((histogram[1:] - histogram[:-1]) ** 2)\n",
    "        #plt.hist(histogram[:-1], bins = 10)\n",
    "        return histogram, score\n",
    "\n",
    "    gray_image = cv2.cvtColor(image, cv2.COLOR_BGR2GRAY)\n",
    "    threshold_image = cv2.threshold(gray_image, 0, 255, cv2.THRESH_BINARY_INV + cv2.THRESH_OTSU)[1] \n",
    "    scores = []\n",
    "    angles = np.arange(-limit, limit + delta, delta)\n",
    "    for angle in angles:\n",
    "        histogram, score = score_calculation(threshold_image, angle)\n",
    "        scores.append(score)\n",
    "\n",
    "    correct_angle = angles[scores.index(max(scores))]\n",
    "\n",
    "    (h, w) = image.shape[:2]\n",
    "    display(image.shape)\n",
    "    center = (w // 2, h // 2)\n",
    "    M = cv2.getRotationMatrix2D(center, correct_angle, 1.0)\n",
    "    rotated_image = cv2.warpAffine(image, M, (w, h), flags=cv2.INTER_CUBIC, borderMode=cv2.BORDER_REPLICATE)\n",
    "    return correct_angle, rotated_image\n",
    "\n",
    "if __name__ == '__main__':\n",
    "    image = cv2.imread('C:\\Projects\\Learn ML\\Image_processing\\SkewedImage.jpg')\n",
    "    angle, rotated = skew_correction(image)\n",
    "    print(angle)\n",
    "    img = Image.fromarray(rotated)\n",
    "    img.show()"
   ]
  },
  {
   "attachments": {},
   "cell_type": "markdown",
   "metadata": {},
   "source": [
    "<h3>Read Image & Get Corrected Image<h3>"
   ]
  },
  {
   "cell_type": "code",
   "execution_count": 41,
   "metadata": {},
   "outputs": [
    {
     "name": "stderr",
     "output_type": "stream",
     "text": [
      "C:\\Users\\lenovo\\AppData\\Local\\Temp\\ipykernel_42656\\3116702985.py:3: DeprecationWarning: Please use `rotate` from the `scipy.ndimage` namespace, the `scipy.ndimage.interpolation` namespace is deprecated.\n",
      "  data = interpolation.rotate(arr, angle, reshape=False, order=0)\n"
     ]
    },
    {
     "data": {
      "text/plain": [
       "(2501, 1891, 3)"
      ]
     },
     "metadata": {},
     "output_type": "display_data"
    }
   ],
   "source": [
    "input_dir = ''\n",
    "output_dir = ''\n",
    "image_file = input_dir + 'SkewedImage.jpg'\n",
    "image = cv2.imread(image_file)\n",
    "angle, rotated = skew_correction(image)\n",
    "#print(angle)\n",
    "img = Image.fromarray(rotated)\n",
    "#img.show()\n",
    "img.save(Path(image_file).stem+'_corrected.jpg', 'JPEG')\n"
   ]
  },
  {
   "cell_type": "code",
   "execution_count": 42,
   "metadata": {},
   "outputs": [],
   "source": [
    "\n",
    "#if __name__ == '__main__':\n",
    "#    image = cv2.imread('C:\\Projects\\Learn ML\\Image_processing\\SkewedImage.jpg')\n",
    "#    angle, rotated = skew_correction(image)\n",
    "#    print(angle)\n",
    "#    img = Image.fromarray(rotated)\n",
    "#    img.show()"
   ]
  }
 ],
 "metadata": {
  "kernelspec": {
   "display_name": "Python 3",
   "language": "python",
   "name": "python3"
  },
  "language_info": {
   "codemirror_mode": {
    "name": "ipython",
    "version": 3
   },
   "file_extension": ".py",
   "mimetype": "text/x-python",
   "name": "python",
   "nbconvert_exporter": "python",
   "pygments_lexer": "ipython3",
   "version": "3.10.4 (tags/v3.10.4:9d38120, Mar 23 2022, 23:13:41) [MSC v.1929 64 bit (AMD64)]"
  },
  "orig_nbformat": 4,
  "vscode": {
   "interpreter": {
    "hash": "213524bb45a1aeaf737b1d8c77d7b8db5d425938d9dffc5f4bc6fe6dd3324700"
   }
  }
 },
 "nbformat": 4,
 "nbformat_minor": 2
}
