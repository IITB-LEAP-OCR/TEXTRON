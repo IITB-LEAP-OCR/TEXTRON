{
 "cells": [
  {
   "cell_type": "markdown",
   "id": "a3342dbb",
   "metadata": {},
   "source": [
    "### Imports"
   ]
  },
  {
   "cell_type": "code",
   "execution_count": 1,
   "id": "e520afb4",
   "metadata": {},
   "outputs": [],
   "source": [
    "import os\n",
    "import cv2\n",
    "import pickle\n",
    "from tqdm import tqdm\n",
    "import pandas as pd\n",
    "\n",
    "from skimage import io, color\n",
    "from skimage.filters import threshold_otsu"
   ]
  },
  {
   "cell_type": "code",
   "execution_count": 2,
   "id": "d4e73ec3",
   "metadata": {},
   "outputs": [],
   "source": [
    "def binarize_image(image):\n",
    "    image = color.rgb2gray(image) \n",
    "    thresh = threshold_otsu(image)\n",
    "    image = image > thresh\n",
    "    return image"
   ]
  },
  {
   "cell_type": "markdown",
   "id": "39e78a70",
   "metadata": {},
   "source": [
    "## Remove Picture/Figure Information in Images  ( Applies to DocBank data )"
   ]
  },
  {
   "cell_type": "code",
   "execution_count": 9,
   "id": "d3c1dfe0",
   "metadata": {},
   "outputs": [
    {
     "name": "stderr",
     "output_type": "stream",
     "text": [
      "100%|███████████████████████████████████████████████████████████████████████████████████████████████████████████████████████████████████████████████████████████████████████████████| 100/100 [00:09<00:00, 10.82it/s]\n"
     ]
    }
   ],
   "source": [
    "input_txt_dir = './../../data/docbank_100/txt/'\n",
    "input_img_dir = './../../data/docbank_100/ori_black/'\n",
    "output_img_dir = './../../processed/docbank_100/images/' \n",
    "output_txt_dir = './../../processed/docbank_100/txt/'\n",
    "\n",
    "\n",
    "dir_list = os.listdir(input_txt_dir)\n",
    "\n",
    "for file in tqdm(dir_list):\n",
    "    name = file[:len(file) - 4]\n",
    "    out_img_file = output_img_dir + name + '_pro.jpg'\n",
    "    ori_img = cv2.imread(input_img_dir + name + '_ori.jpg')\n",
    "    \n",
    "    try:\n",
    "        df = pd.read_csv(input_txt_dir+file, delimiter='\\t', \n",
    "                names=[\"token\", \"x0\", \"y0\", \"x1\", \"y1\", \"R\", \"G\", \"B\", \"font name\", \"label\"])\n",
    "        df1 = df[df['label']=='figure'].reset_index(drop=True)\n",
    "        df2 = df[df['label']!='figure'].reset_index(drop=True)\n",
    "\n",
    "        # Removing Figure/Picture in Image\n",
    "        height, width, _ = ori_img.shape\n",
    "        for i in range(df1.shape[0]):\n",
    "            x0, y0, x1, y1  = (df1['x0'][i], df1['y0'][i], df1['x1'][i], df1['y1'][i])\n",
    "            \n",
    "            # Removing bboxes of Text within Figure/Picture in Image from TXT file\n",
    "            df2.drop(df2[(df2['x0'] >= x0) & (df2['x1'] <= x1) & (df2['y0'] >= y0) & (df2['y1'] <= y1)].index, inplace = True)\n",
    "            df2 = df2.reset_index(drop=True)\n",
    "            \n",
    "            x0, y0, x1, y1 = (int(x0*width/1000), int(y0*height/1000), int(x1*width/1000), int(y1*height/1000))\n",
    "            cv2.rectangle(ori_img, (x0, y0), (x1, y1), (255, 255, 255), cv2.FILLED)\n",
    "\n",
    "        cv2.imwrite(out_img_file, ori_img)\n",
    "        df2.to_csv(output_txt_dir + file, sep=' ', index=False, header=False)\n",
    "    except:\n",
    "        continue"
   ]
  },
  {
   "cell_type": "markdown",
   "id": "75ad9793",
   "metadata": {},
   "source": [
    "### Draw bounding boxes with Ground truth"
   ]
  },
  {
   "cell_type": "code",
   "execution_count": 8,
   "id": "478c4b51",
   "metadata": {},
   "outputs": [
    {
     "name": "stderr",
     "output_type": "stream",
     "text": [
      "100%|███████████████████████████████████████████████████████████████████████████████████████████████████████████████████████████████████████████████████████████████████████████████| 100/100 [00:13<00:00,  7.44it/s]\n"
     ]
    }
   ],
   "source": [
    "input_img_dir = './../../processed/docbank_100/images/'\n",
    "input_txt_dir = './../../processed/docbank_100/txt/'\n",
    "output_ann_dir1 = './../../processed/docbank_100/ann_bb/'\n",
    "output_ann_dir2 = './../../processed/docbank_100/ann/'\n",
    "\n",
    "dir_list = os.listdir(input_txt_dir)\n",
    "\n",
    "for file in tqdm(dir_list):\n",
    "    name = file[:len(file) - 4]\n",
    "    out_img_file1 = output_ann_dir1 + name + '_ann.jpg'\n",
    "    out_img_file2 = output_ann_dir2 + name + '_ann.jpg'\n",
    "    ori_img1 = cv2.imread(input_img_dir + name + '_pro.jpg')\n",
    "    ori_img2 = ori_img1\n",
    "    df = pd.read_csv(input_txt_dir+file, delimiter='\\t',\n",
    "                     names=[\"token\", \"x0\", \"y0\", \"x1\", \"y1\", \"R\", \"G\", \"B\", \"font name\", \"label\"])\n",
    "\n",
    "    height, width, _ = ori_img1.shape\n",
    "    for i in range(df.shape[0]):\n",
    "        x0, y0, x1, y1  = (df['x0'][i], df['y0'][i], df['x1'][i], df['y1'][i])\n",
    "        x0, y0, x1, y1 = (int(x0*width/1000), int(y0*height/1000), int(x1*width/1000), int(y1*height/1000))\n",
    "        cv2.rectangle(ori_img1, (x0, y0), (x1, y1), (0, 255, 0), 1)\n",
    "        cv2.rectangle(ori_img2, (x0, y0), (x1, y1), (0, 0, 0), cv2.FILLED)\n",
    "\n",
    "    cv2.imwrite(out_img_file1, ori_img1)\n",
    "    cv2.imwrite(out_img_file2, ori_img2)"
   ]
  },
  {
   "cell_type": "markdown",
   "id": "1e367b12",
   "metadata": {},
   "source": [
    "### Resize Images to Annotation size ( As Needed )"
   ]
  },
  {
   "cell_type": "code",
   "execution_count": 5,
   "id": "9e710a14",
   "metadata": {},
   "outputs": [
    {
     "name": "stderr",
     "output_type": "stream",
     "text": [
      " 53%|████████████████████████████████████████████████████████████████████████████████████████████████████████████████████████████                                                                                                              | 53/100 [00:08<00:10,  4.68it/s]/tmp/ipykernel_1943617/1989410600.py:13: UserWarning: ./../../processed/docbank_100/images_resized/148.tar_1707.02008.gz_ms_9_pro.jpg is a low contrast image\n",
      "  io.imsave(output_img_dir + file, pro_img)\n",
      "100%|█████████████████████████████████████████████████████████████████████████████████████████████████████████████████████████████████████████████████████████████████████████████████████████████████████████████████████████████████████████| 100/100 [00:18<00:00,  5.38it/s]\n"
     ]
    }
   ],
   "source": [
    "input_img_dir  = './../../processed/docbank_100/images/'\n",
    "output_img_dir = './../../processed/docbank_100/images_resized/'\n",
    "\n",
    "value = 1.5\n",
    "\n",
    "\n",
    "dir_list = os.listdir(input_img_dir)\n",
    "\n",
    "for file in tqdm(dir_list):\n",
    "    img = io.imread(input_img_dir + file)\n",
    "    height, width, _ = img.shape\n",
    "    pro_img = cv2.resize(img, (int(width/value),int(height/value)))\n",
    "    io.imsave(output_img_dir + file, pro_img)"
   ]
  },
  {
   "cell_type": "markdown",
   "id": "ce84364a",
   "metadata": {},
   "source": [
    "# EQUATIONS ONLY"
   ]
  },
  {
   "cell_type": "markdown",
   "id": "b3e2a84c",
   "metadata": {},
   "source": [
    "### Retain Only EQUATION Information"
   ]
  },
  {
   "cell_type": "code",
   "execution_count": null,
   "id": "4b52b591",
   "metadata": {},
   "outputs": [],
   "source": [
    "input_dir   = './../../docbank_processed/original_data/txt/'\n",
    "ori_img_dir = './../../docbank_processed/original_data/ori_black/'\n",
    "output_dir  = './../../docbank_processed/processed_data/only_eqn/ori_black/' \n",
    "\n",
    "dir_list = os.listdir(input_dir)\n",
    "results = {}\n",
    "images = []\n",
    "\n",
    "for file in dir_list:\n",
    "    name = file[:len(file) - 4]\n",
    "    ori_img = cv2.imread(ori_img_dir + name + '_ori.jpg')\n",
    "    df = pd.read_csv(input_dir+file, delimiter='\\t', \n",
    "                names=[\"token\", \"x0\", \"y0\", \"x1\", \"y1\", \"R\", \"G\", \"B\", \"font name\", \"label\"])\n",
    "    df = df[df['label']!='equation'].reset_index()\n",
    "    \n",
    "    height, width, _ = ori_img.shape\n",
    "    for i in range(df.shape[0]):\n",
    "        x0, y0, x1, y1  = (df['x0'][i], df['y0'][i], df['x1'][i], df['y1'][i])\n",
    "        x0, y0, x1, y1 = (int(x0*width/1000), int(y0*height/1000), int(x1*width/1000), int(y1*height/1000))\n",
    "        cv2.rectangle(ori_img, (x0, y0), (x1, y1), (255, 255, 255), cv2.FILLED)\n",
    "    \n",
    "    cv2.imwrite(output_dir + name + '_ori_pro.jpg', ori_img)"
   ]
  },
  {
   "cell_type": "markdown",
   "id": "f91c21df",
   "metadata": {},
   "source": [
    "### Retaion only EQUATION Information in Annotations"
   ]
  },
  {
   "cell_type": "code",
   "execution_count": null,
   "id": "9e97f13c",
   "metadata": {},
   "outputs": [],
   "source": [
    "input_dir   = './../../docbank_processed/original_data/txt/'\n",
    "ann_img_dir = './../../docbank_processed/original_data/ann/'\n",
    "output_dir  = './../../docbank_processed/processed_data/only_eqn/ann/' \n",
    "\n",
    "dir_list = os.listdir(input_dir)\n",
    "results = {}\n",
    "images = []\n",
    "\n",
    "for file in dir_list:\n",
    "    name = file[:len(file) - 4]\n",
    "    ann_img = cv2.imread(ann_img_dir + name + '_ann.jpg')\n",
    "    df = pd.read_csv(input_dir+file, delimiter='\\t', \n",
    "                names=[\"token\", \"x0\", \"y0\", \"x1\", \"y1\", \"R\", \"G\", \"B\", \"font name\", \"label\"])\n",
    "    df = df[df['label']!='equation'].reset_index()\n",
    "    \n",
    "    height, width, _ = ann_img.shape\n",
    "    for i in range(df.shape[0]):\n",
    "        x0, y0, x1, y1  = (df['x0'][i], df['y0'][i], df['x1'][i], df['y1'][i])\n",
    "        x0, y0, x1, y1 = (int(x0*width/1000), int(y0*height/1000), int(x1*width/1000), int(y1*height/1000))\n",
    "        cv2.rectangle(ann_img, (x0, y0), (x1, y1), (255, 255, 255), cv2.FILLED)\n",
    "    \n",
    "    cv2.imwrite(output_dir + name + '_ann_pro.jpg', ann_img)"
   ]
  },
  {
   "cell_type": "code",
   "execution_count": null,
   "id": "7403c11d",
   "metadata": {},
   "outputs": [],
   "source": [
    "input_dir   = './../../docbank_processed/original_data/txt/'\n",
    "ann_img_dir = './../../docbank_processed/original_data/ann/'\n",
    "output_dir  = './../../docbank_processed/processed_data/only_eqn/txt/' \n",
    "\n",
    "dir_list = os.listdir(input_dir)\n",
    "results = {}\n",
    "images = []\n",
    "\n",
    "for file in dir_list:\n",
    "    name = file[:len(file) - 4]\n",
    "    ann_img = cv2.imread(ann_img_dir + name + '_ann.jpg')\n",
    "    df = pd.read_csv(input_dir+file, delimiter='\\t', \n",
    "                names=[\"token\", \"x0\", \"y0\", \"x1\", \"y1\", \"R\", \"G\", \"B\", \"font name\", \"label\"])\n",
    "    df = df[df['label']=='equation'].reset_index()\n",
    "    df.to_csv(output_dir + file,sep='\\t',index=False)"
   ]
  },
  {
   "cell_type": "markdown",
   "id": "c5dddadc",
   "metadata": {},
   "source": [
    "### Remove files with No Equations"
   ]
  },
  {
   "cell_type": "code",
   "execution_count": null,
   "id": "e00d8fd6",
   "metadata": {},
   "outputs": [],
   "source": [
    "input_dir   = './../../../docbank_processed/processed_data/only_eqn/ori_txt/'\n",
    "ori_txt_dir = './../../../docbank_processed/processed_data/only_eqn/ori_txt/'\n",
    "parent = './../../../docbank_processed/processed_data/only_eqn/'\n",
    "\n",
    "dir_list = os.listdir(input_dir)\n",
    "\n",
    "for dir1 in os.listdir(parent):\n",
    "    for file2 in os.listdir(parent+dir1):\n",
    "        found = False\n",
    "        for file in os.listdir(ori_txt_dir):\n",
    "            name = file[:len(file) - 4]\n",
    "            if(name in file2):\n",
    "                found = True\n",
    "                break\n",
    "        if(found==False):\n",
    "            os.remove(parent+dir1+'/'+file2)"
   ]
  }
 ],
 "metadata": {
  "kernelspec": {
   "display_name": "Python 3 (ipykernel)",
   "language": "python",
   "name": "python3"
  },
  "language_info": {
   "codemirror_mode": {
    "name": "ipython",
    "version": 3
   },
   "file_extension": ".py",
   "mimetype": "text/x-python",
   "name": "python",
   "nbconvert_exporter": "python",
   "pygments_lexer": "ipython3",
   "version": "3.8.10"
  },
  "vscode": {
   "interpreter": {
    "hash": "31f2aee4e71d21fbe5cf8b01ff0e069b9275f58929596ceb00d14d90e3e16cd6"
   }
  }
 },
 "nbformat": 4,
 "nbformat_minor": 5
}
