{
 "cells": [
  {
   "cell_type": "code",
   "execution_count": 1,
   "id": "5cfa9bc3",
   "metadata": {},
   "outputs": [],
   "source": [
    "import json\n",
    "import pandas as pd\n",
    "import numpy as np\n",
    "import os"
   ]
  },
  {
   "cell_type": "code",
   "execution_count": 2,
   "id": "1ec7779e",
   "metadata": {},
   "outputs": [],
   "source": [
    "f = open('./../../malayalam.json')\n",
    "data = json.load(f)"
   ]
  },
  {
   "cell_type": "code",
   "execution_count": 30,
   "id": "153753e4",
   "metadata": {},
   "outputs": [],
   "source": [
    "d = './malayalam_coco/train/'\n",
    "for file in os.listdir(d):\n",
    "    if(file!='_annotations.coco.json'):\n",
    "        val = file[0:14]\n",
    "        os.rename(d+file, d+val+'.jpg')"
   ]
  },
  {
   "cell_type": "code",
   "execution_count": 3,
   "id": "35be3e21",
   "metadata": {},
   "outputs": [],
   "source": [
    "value = {}\n",
    "for ann in data['annotations']:\n",
    "    img_id = ann['image_id']\n",
    "    if img_id not in value.keys():\n",
    "        value[img_id] = []\n",
    "    value[img_id].append(ann['bbox'])"
   ]
  },
  {
   "cell_type": "code",
   "execution_count": 4,
   "id": "5ab735a4",
   "metadata": {},
   "outputs": [],
   "source": [
    "images = {}\n",
    "for img in data['images']:\n",
    "    img_id = img['id']\n",
    "    images[img_id] = img['file_name'][0:14]"
   ]
  },
  {
   "cell_type": "code",
   "execution_count": 5,
   "id": "af7be767",
   "metadata": {},
   "outputs": [],
   "source": [
    "output_txt_dir = './../../processed/malayalam_coco/txt_latest/'\n",
    "for id, bboxes in value.items():\n",
    "    df = pd.DataFrame(bboxes, columns=['x','y','w','h'])\n",
    "#     df['w'] = df['w'].astype('int')\n",
    "#     df['h'] = df['h'].astype('int')\n",
    "    df['label'] = 'text'\n",
    "    df['confidence'] = 1\n",
    "    first_column = df.pop('confidence')\n",
    "    df.insert(0, 'confidence', first_column)\n",
    "    first_column = df.pop('label')\n",
    "    df.insert(0, 'label', first_column)\n",
    "    df.to_csv(output_txt_dir + images[id] + '.txt', sep=' ', index=False, header=False)"
   ]
  },
  {
   "cell_type": "code",
   "execution_count": null,
   "id": "7943f056",
   "metadata": {},
   "outputs": [],
   "source": []
  }
 ],
 "metadata": {
  "kernelspec": {
   "display_name": "Python 3 (ipykernel)",
   "language": "python",
   "name": "python3"
  },
  "language_info": {
   "codemirror_mode": {
    "name": "ipython",
    "version": 3
   },
   "file_extension": ".py",
   "mimetype": "text/x-python",
   "name": "python",
   "nbconvert_exporter": "python",
   "pygments_lexer": "ipython3",
   "version": "3.8.10"
  }
 },
 "nbformat": 4,
 "nbformat_minor": 5
}
