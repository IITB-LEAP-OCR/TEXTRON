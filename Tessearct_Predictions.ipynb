{
 "cells": [
  {
   "cell_type": "markdown",
   "id": "920dc303",
   "metadata": {},
   "source": [
    "### Imports"
   ]
  },
  {
   "cell_type": "code",
   "execution_count": 18,
   "id": "d53595b5",
   "metadata": {},
   "outputs": [],
   "source": [
    "import os\n",
    "import cv2\n",
    "import pickle\n",
    "from pytesseract import Output, image_to_data"
   ]
  },
  {
   "cell_type": "markdown",
   "id": "4cb74f59",
   "metadata": {},
   "source": [
    "### Tesseract Predictions for Docbank data without Images"
   ]
  },
  {
   "cell_type": "code",
   "execution_count": 19,
   "id": "0d32c98e",
   "metadata": {},
   "outputs": [],
   "source": [
    "input_dir   = './docbank_processed/processed_data/ori_black/'\n",
    "output_dir  = './docbank_processed/resultant_data/tesseract/' \n",
    "dir_list = os.listdir(input_dir)"
   ]
  },
  {
   "cell_type": "code",
   "execution_count": 20,
   "id": "c3ca1127",
   "metadata": {},
   "outputs": [],
   "source": [
    "dimensions = {}\n",
    "results = {}\n",
    "total = {}\n",
    "\n",
    "for image in dir_list:\n",
    "    predictions = []\n",
    "    img = cv2.imread(input_dir + image)\n",
    "    d = image_to_data(img, output_type=Output.DICT)\n",
    "    for i in range(len(d['level'])):\n",
    "        values = []\n",
    "        (x, y, w, h) = (d['left'][i], d['top'][i], d['width'][i], d['height'][i])\n",
    "        (x, y, w, h) = (int(x), int(y), int(w), int(h))\n",
    "        values.append('text')\n",
    "        values.append(d['conf'][i])\n",
    "        values = values + [x,y,w,h]\n",
    "        values.append(d['text'][i])\n",
    "        if(x==0 and y==0):\n",
    "            continue\n",
    "        else:\n",
    "            cv2.rectangle(img, (x, y), (x + w, y + h), (0, 0, 255))\n",
    "        predictions.append(values)\n",
    "    total[image] = predictions\n",
    "    results[image] = d\n",
    "    cv2.imwrite(output_dir + 'images/' + image, img)"
   ]
  },
  {
   "cell_type": "markdown",
   "id": "6bff3074",
   "metadata": {},
   "source": [
    "### Store Results"
   ]
  },
  {
   "cell_type": "code",
   "execution_count": 21,
   "id": "ec818d4c",
   "metadata": {},
   "outputs": [
    {
     "ename": "NameError",
     "evalue": "name 'pd' is not defined",
     "output_type": "error",
     "traceback": [
      "\u001b[0;31m---------------------------------------------------------------------------\u001b[0m",
      "\u001b[0;31mNameError\u001b[0m                                 Traceback (most recent call last)",
      "Cell \u001b[0;32mIn[21], line 3\u001b[0m\n\u001b[1;32m      1\u001b[0m \u001b[38;5;28;01mfor\u001b[39;00m image,result \u001b[38;5;129;01min\u001b[39;00m total\u001b[38;5;241m.\u001b[39mitems():\n\u001b[1;32m      2\u001b[0m     name \u001b[38;5;241m=\u001b[39m image[:\u001b[38;5;28mlen\u001b[39m(image) \u001b[38;5;241m-\u001b[39m \u001b[38;5;241m12\u001b[39m]\n\u001b[0;32m----> 3\u001b[0m     df \u001b[38;5;241m=\u001b[39m \u001b[43mpd\u001b[49m\u001b[38;5;241m.\u001b[39mDataFrame(result, columns \u001b[38;5;241m=\u001b[39m [\u001b[38;5;124m'\u001b[39m\u001b[38;5;124mclass\u001b[39m\u001b[38;5;124m'\u001b[39m, \u001b[38;5;124m'\u001b[39m\u001b[38;5;124mconfidence\u001b[39m\u001b[38;5;124m'\u001b[39m, \u001b[38;5;124m'\u001b[39m\u001b[38;5;124mX\u001b[39m\u001b[38;5;124m'\u001b[39m, \u001b[38;5;124m'\u001b[39m\u001b[38;5;124mY\u001b[39m\u001b[38;5;124m'\u001b[39m, \u001b[38;5;124m'\u001b[39m\u001b[38;5;124mW\u001b[39m\u001b[38;5;124m'\u001b[39m, \u001b[38;5;124m'\u001b[39m\u001b[38;5;124mH\u001b[39m\u001b[38;5;124m'\u001b[39m, \u001b[38;5;124m'\u001b[39m\u001b[38;5;124mprediction\u001b[39m\u001b[38;5;124m'\u001b[39m])\n\u001b[1;32m      4\u001b[0m     df\u001b[38;5;241m.\u001b[39mto_csv(output_dir \u001b[38;5;241m+\u001b[39m \u001b[38;5;124m'\u001b[39m\u001b[38;5;124mtxt/\u001b[39m\u001b[38;5;124m'\u001b[39m \u001b[38;5;241m+\u001b[39m name \u001b[38;5;241m+\u001b[39m \u001b[38;5;124m'\u001b[39m\u001b[38;5;124m.txt\u001b[39m\u001b[38;5;124m'\u001b[39m, sep\u001b[38;5;241m=\u001b[39m\u001b[38;5;124m'\u001b[39m\u001b[38;5;130;01m\\t\u001b[39;00m\u001b[38;5;124m'\u001b[39m,index\u001b[38;5;241m=\u001b[39m\u001b[38;5;28;01mFalse\u001b[39;00m)\n",
      "\u001b[0;31mNameError\u001b[0m: name 'pd' is not defined"
     ]
    }
   ],
   "source": [
    "for image,result in total.items():\n",
    "    name = image[:len(image) - 12]\n",
    "    df = pd.DataFrame(result, columns = ['class', 'confidence', 'X', 'Y', 'W', 'H', 'prediction'])\n",
    "    df.to_csv(output_dir + 'txt/' + name + '.txt', sep='\\t',index=False)"
   ]
  },
  {
   "cell_type": "code",
   "execution_count": null,
   "id": "18d18efd",
   "metadata": {},
   "outputs": [],
   "source": [
    "with open(output_dir+'results.pkl', 'wb') as outp:  # Overwrites any existing file.\n",
    "    pickle.dump(results, outp, pickle.HIGHEST_PROTOCOL)"
   ]
  }
 ],
 "metadata": {
  "kernelspec": {
   "display_name": "Python 3 (ipykernel)",
   "language": "python",
   "name": "python3"
  },
  "language_info": {
   "codemirror_mode": {
    "name": "ipython",
    "version": 3
   },
   "file_extension": ".py",
   "mimetype": "text/x-python",
   "name": "python",
   "nbconvert_exporter": "python",
   "pygments_lexer": "ipython3",
   "version": "3.8.10"
  }
 },
 "nbformat": 4,
 "nbformat_minor": 5
}
