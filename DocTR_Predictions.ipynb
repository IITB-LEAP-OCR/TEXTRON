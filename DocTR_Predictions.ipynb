{
 "cells": [
  {
   "cell_type": "markdown",
   "id": "aaec90f2",
   "metadata": {},
   "source": [
    "### Imports"
   ]
  },
  {
   "cell_type": "code",
   "execution_count": 35,
   "id": "17d9f5e0",
   "metadata": {},
   "outputs": [],
   "source": [
    "import os\n",
    "import pickle\n",
    "\n",
    "from skimage import io\n",
    "import pandas as pd\n",
    "import cv2\n",
    "\n",
    "from doctr.io import DocumentFile\n",
    "from doctr.models import ocr_predictor"
   ]
  },
  {
   "cell_type": "markdown",
   "id": "0ac1f954",
   "metadata": {},
   "source": [
    "### Model Loading"
   ]
  },
  {
   "cell_type": "code",
   "execution_count": 7,
   "id": "e7a546d3",
   "metadata": {},
   "outputs": [
    {
     "name": "stderr",
     "output_type": "stream",
     "text": [
      "/home/venkat/BADRI/venv/lib/python3.8/site-packages/torchvision/models/_utils.py:135: UserWarning: Using 'weights' as positional parameter(s) is deprecated since 0.13 and may be removed in the future. Please use keyword parameter(s) instead.\n",
      "  warnings.warn(\n",
      "/home/venkat/BADRI/venv/lib/python3.8/site-packages/torchvision/models/_utils.py:223: UserWarning: Arguments other than a weight enum or `None` for 'weights' are deprecated since 0.13 and may be removed in the future. The current behavior is equivalent to passing `weights=None`.\n",
      "  warnings.warn(msg)\n"
     ]
    }
   ],
   "source": [
    "model = ocr_predictor(pretrained=True)"
   ]
  },
  {
   "cell_type": "markdown",
   "id": "c194de74",
   "metadata": {},
   "source": [
    "### DocTR Predictions on Docbank data with removed images"
   ]
  },
  {
   "cell_type": "code",
   "execution_count": 8,
   "id": "14d40a4f",
   "metadata": {},
   "outputs": [],
   "source": [
    "input_dir   = './docbank_processed/processed_data/ori_black/'\n",
    "output_dir  = './docbank_processed/resultant_data/doctr/' "
   ]
  },
  {
   "cell_type": "code",
   "execution_count": 9,
   "id": "9a103c2f",
   "metadata": {},
   "outputs": [],
   "source": [
    "dir_list = os.listdir(input_dir)\n",
    "results = {}\n",
    "images = []\n",
    "\n",
    "for image in dir_list:\n",
    "    doc = DocumentFile.from_images(input_dir+image)\n",
    "    result = model(doc)\n",
    "    results[image] = result\n",
    "    images.append(image)\n",
    "    \n",
    "# for i in range(len(results)):\n",
    "#     results[i].show(docs[i])\n",
    "\n",
    "# with open(output_dir+'results.pkl', 'rb') as f:\n",
    "#     results = pickle.load(f)"
   ]
  },
  {
   "cell_type": "code",
   "execution_count": 36,
   "id": "50ba7a70",
   "metadata": {},
   "outputs": [
    {
     "name": "stderr",
     "output_type": "stream",
     "text": [
      "/tmp/ipykernel_1239653/3586465970.py:22: UserWarning: ./docbank_processed/resultant_data/doctr/images/148.tar_1707.02008.gz_ms_9_ori_pro.jpg is a low contrast image\n",
      "  io.imsave(output_dir + 'images/' + image,img)\n"
     ]
    }
   ],
   "source": [
    "dimensions = {}\n",
    "total = {}\n",
    "for image,result in results.items():\n",
    "    dim = tuple(reversed(result.pages[0].dimensions))\n",
    "    predictions = []\n",
    "    img = io.imread(os.path.join(input_dir,image))\n",
    "    for block in result.pages[0].blocks:\n",
    "        for line in block.lines:\n",
    "            for word in line.words:\n",
    "                values = []\n",
    "                geo = word.geometry\n",
    "                a = list(int(a*b) for a,b in zip(geo[0],dim))\n",
    "                b = list(int(a*b) for a,b in zip(geo[1],dim))\n",
    "                values.append(a[0])\n",
    "                values.append(a[1])\n",
    "                values.append(b[0])\n",
    "                values.append(b[1])\n",
    "                values.append(word.value)\n",
    "                values.append(word.confidence)\n",
    "                predictions.append(values)\n",
    "                cv2.rectangle(img, (a[0], a[1]), (b[0], b[1]), (0, 0, 255))\n",
    "    io.imsave(output_dir + 'images/' + image,img)\n",
    "    total[image] = predictions"
   ]
  },
  {
   "cell_type": "markdown",
   "id": "12be28ba",
   "metadata": {},
   "source": [
    "### Store Results"
   ]
  },
  {
   "cell_type": "code",
   "execution_count": 41,
   "id": "b7e7b2a3",
   "metadata": {},
   "outputs": [],
   "source": [
    "for image,result in total.items():\n",
    "    name = image[:len(image) - 12]\n",
    "    df = pd.DataFrame(result, columns = ['x0', 'y0', 'x1', 'y1', 'prediction', 'confidence'])\n",
    "    df.to_csv(output_dir + 'txt/' + name + '.txt', sep='\\t',index=False)"
   ]
  },
  {
   "cell_type": "code",
   "execution_count": null,
   "id": "f11a0b32",
   "metadata": {},
   "outputs": [],
   "source": [
    "with open(output_dir+'results.pkl', 'wb') as outp:  # Overwrites any existing file.\n",
    "    pickle.dump(results, outp, pickle.HIGHEST_PROTOCOL)"
   ]
  }
 ],
 "metadata": {
  "kernelspec": {
   "display_name": "Python 3 (ipykernel)",
   "language": "python",
   "name": "python3"
  },
  "language_info": {
   "codemirror_mode": {
    "name": "ipython",
    "version": 3
   },
   "file_extension": ".py",
   "mimetype": "text/x-python",
   "name": "python",
   "nbconvert_exporter": "python",
   "pygments_lexer": "ipython3",
   "version": "3.8.10"
  }
 },
 "nbformat": 4,
 "nbformat_minor": 5
}
