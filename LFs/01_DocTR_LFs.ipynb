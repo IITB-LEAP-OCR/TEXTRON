{
 "cells": [
  {
   "cell_type": "markdown",
   "id": "611b8c70",
   "metadata": {},
   "source": [
    "### Imports"
   ]
  },
  {
   "cell_type": "code",
   "execution_count": 1,
   "id": "1acb7bc6",
   "metadata": {},
   "outputs": [
    {
     "name": "stderr",
     "output_type": "stream",
     "text": [
      "2022-11-25 15:42:47.034761: I tensorflow/core/platform/cpu_feature_guard.cc:193] This TensorFlow binary is optimized with oneAPI Deep Neural Network Library (oneDNN) to use the following CPU instructions in performance-critical operations:  AVX2 AVX512F FMA\n",
      "To enable them in other operations, rebuild TensorFlow with the appropriate compiler flags.\n",
      "2022-11-25 15:42:47.169343: W tensorflow/stream_executor/platform/default/dso_loader.cc:64] Could not load dynamic library 'libcudart.so.11.0'; dlerror: libcudart.so.11.0: cannot open shared object file: No such file or directory; LD_LIBRARY_PATH: /home/venkat/BADRI/badrienv/lib/python3.8/site-packages/cv2/../../lib64:\n",
      "2022-11-25 15:42:47.169364: I tensorflow/stream_executor/cuda/cudart_stub.cc:29] Ignore above cudart dlerror if you do not have a GPU set up on your machine.\n",
      "2022-11-25 15:42:47.190633: E tensorflow/stream_executor/cuda/cuda_blas.cc:2981] Unable to register cuBLAS factory: Attempting to register factory for plugin cuBLAS when one has already been registered\n",
      "2022-11-25 15:42:48.653050: W tensorflow/stream_executor/platform/default/dso_loader.cc:64] Could not load dynamic library 'libnvinfer.so.7'; dlerror: libnvrtc.so.11.1: cannot open shared object file: No such file or directory; LD_LIBRARY_PATH: /home/venkat/BADRI/badrienv/lib/python3.8/site-packages/cv2/../../lib64:\n",
      "2022-11-25 15:42:48.654288: W tensorflow/stream_executor/platform/default/dso_loader.cc:64] Could not load dynamic library 'libnvinfer_plugin.so.7'; dlerror: libnvrtc.so.11.1: cannot open shared object file: No such file or directory; LD_LIBRARY_PATH: /home/venkat/BADRI/badrienv/lib/python3.8/site-packages/cv2/../../lib64:\n",
      "2022-11-25 15:42:48.654305: W tensorflow/compiler/tf2tensorrt/utils/py_utils.cc:38] TF-TRT Warning: Cannot dlopen some TensorRT libraries. If you would like to use Nvidia GPU with TensorRT, please make sure the missing libraries mentioned above are installed properly.\n",
      "/home/venkat/BADRI/badrienv/lib/python3.8/site-packages/tqdm/auto.py:22: TqdmWarning: IProgress not found. Please update jupyter and ipywidgets. See https://ipywidgets.readthedocs.io/en/stable/user_install.html\n",
      "  from .autonotebook import tqdm as notebook_tqdm\n"
     ]
    }
   ],
   "source": [
    "import os\n",
    "import pickle\n",
    "import cv2\n",
    "\n",
    "from doctr.io import DocumentFile\n",
    "from doctr.models import ocr_predictor\n",
    "\n",
    "from skimage import io"
   ]
  },
  {
   "cell_type": "markdown",
   "id": "bb83dd36",
   "metadata": {},
   "source": [
    "### DocTR model loading"
   ]
  },
  {
   "cell_type": "code",
   "execution_count": 2,
   "id": "d9d1d169",
   "metadata": {},
   "outputs": [],
   "source": [
    "input_dir  = './../data/images/'\n",
    "output_dir = './../data/results/doctr/'"
   ]
  },
  {
   "cell_type": "code",
   "execution_count": 3,
   "id": "fd350591",
   "metadata": {},
   "outputs": [
    {
     "name": "stderr",
     "output_type": "stream",
     "text": [
      "2022-11-25 15:42:52.832249: W tensorflow/stream_executor/platform/default/dso_loader.cc:64] Could not load dynamic library 'libcufft.so.10'; dlerror: libcufft.so.10: cannot open shared object file: No such file or directory; LD_LIBRARY_PATH: /home/venkat/BADRI/badrienv/lib/python3.8/site-packages/cv2/../../lib64:\n",
      "2022-11-25 15:42:52.832311: W tensorflow/stream_executor/platform/default/dso_loader.cc:64] Could not load dynamic library 'libcurand.so.10'; dlerror: libcurand.so.10: cannot open shared object file: No such file or directory; LD_LIBRARY_PATH: /home/venkat/BADRI/badrienv/lib/python3.8/site-packages/cv2/../../lib64:\n",
      "2022-11-25 15:42:52.832346: W tensorflow/stream_executor/platform/default/dso_loader.cc:64] Could not load dynamic library 'libcusolver.so.11'; dlerror: libcusolver.so.11: cannot open shared object file: No such file or directory; LD_LIBRARY_PATH: /home/venkat/BADRI/badrienv/lib/python3.8/site-packages/cv2/../../lib64:\n",
      "2022-11-25 15:42:52.832380: W tensorflow/stream_executor/platform/default/dso_loader.cc:64] Could not load dynamic library 'libcusparse.so.11'; dlerror: libcusparse.so.11: cannot open shared object file: No such file or directory; LD_LIBRARY_PATH: /home/venkat/BADRI/badrienv/lib/python3.8/site-packages/cv2/../../lib64:\n",
      "2022-11-25 15:42:52.832401: W tensorflow/core/common_runtime/gpu/gpu_device.cc:1934] Cannot dlopen some GPU libraries. Please make sure the missing libraries mentioned above are installed properly if you would like to use GPU. Follow the guide at https://www.tensorflow.org/install/gpu for how to download and setup the required libraries for your platform.\n",
      "Skipping registering GPU devices...\n",
      "2022-11-25 15:42:52.832670: I tensorflow/core/platform/cpu_feature_guard.cc:193] This TensorFlow binary is optimized with oneAPI Deep Neural Network Library (oneDNN) to use the following CPU instructions in performance-critical operations:  AVX2 AVX512F FMA\n",
      "To enable them in other operations, rebuild TensorFlow with the appropriate compiler flags.\n"
     ]
    }
   ],
   "source": [
    "model = ocr_predictor(pretrained=True)"
   ]
  },
  {
   "cell_type": "markdown",
   "id": "e09ef91b",
   "metadata": {},
   "source": [
    "### Get Results"
   ]
  },
  {
   "cell_type": "code",
   "execution_count": 4,
   "id": "7ddb8b65",
   "metadata": {},
   "outputs": [],
   "source": [
    "dir_list = os.listdir(input_dir)\n",
    "results = {}\n",
    "images = []\n",
    "\n",
    "for image in dir_list:\n",
    "    doc = DocumentFile.from_images(input_dir+image)\n",
    "    result = model(doc)\n",
    "    results[image] = result\n",
    "    images.append(image)\n",
    "    \n",
    "# for i in range(len(results)):\n",
    "#     results[i].show(docs[i])"
   ]
  },
  {
   "cell_type": "code",
   "execution_count": 5,
   "id": "9d9a4e98",
   "metadata": {},
   "outputs": [],
   "source": [
    "dimensions = {}\n",
    "for image,result in results.items():\n",
    "    dim = tuple(reversed(result.pages[0].dimensions))\n",
    "    values = []\n",
    "    img = io.imread(os.path.join(input_dir,image))\n",
    "    for block in result.pages[0].blocks:\n",
    "        for line in block.lines:\n",
    "            for word in line.words:\n",
    "                geo = word.geometry\n",
    "                a = list(a*b for a,b in zip(geo[0],dim))\n",
    "                b = list(a*b for a,b in zip(geo[1],dim))\n",
    "                values.append(a+b)\n",
    "                cv2.rectangle(img, (int(a[0]), int(a[1])), (int(b[0]), int(b[1])), (0, 0, 255), 2)\n",
    "    dimensions[image] = values\n",
    "    io.imsave(output_dir + 'images/' + image, img)"
   ]
  },
  {
   "cell_type": "markdown",
   "id": "08f3a627",
   "metadata": {},
   "source": [
    "### Store Results"
   ]
  },
  {
   "cell_type": "code",
   "execution_count": 6,
   "id": "0d1e5c37",
   "metadata": {},
   "outputs": [],
   "source": [
    "with open(output_dir+'results.pkl', 'wb') as outp:  # Overwrites any existing file.\n",
    "    pickle.dump(results, outp, pickle.HIGHEST_PROTOCOL)\n",
    "    \n",
    "with open(output_dir+'dimensions.pkl', 'wb') as outp:  # Overwrites any existing file.\n",
    "    pickle.dump(dimensions, outp, pickle.HIGHEST_PROTOCOL)"
   ]
  }
 ],
 "metadata": {
  "kernelspec": {
   "display_name": "Python 3 (ipykernel)",
   "language": "python",
   "name": "python3"
  },
  "language_info": {
   "codemirror_mode": {
    "name": "ipython",
    "version": 3
   },
   "file_extension": ".py",
   "mimetype": "text/x-python",
   "name": "python",
   "nbconvert_exporter": "python",
   "pygments_lexer": "ipython3",
   "version": "3.8.10"
  }
 },
 "nbformat": 4,
 "nbformat_minor": 5
}
