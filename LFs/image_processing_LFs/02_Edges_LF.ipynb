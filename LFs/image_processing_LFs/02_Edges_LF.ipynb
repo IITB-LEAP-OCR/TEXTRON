{
 "cells": [
  {
   "cell_type": "markdown",
   "id": "8c4e75f3",
   "metadata": {},
   "source": [
    "### Imports"
   ]
  },
  {
   "cell_type": "code",
   "execution_count": 1,
   "id": "86f41332",
   "metadata": {},
   "outputs": [],
   "source": [
    "from skimage import io, color, filters\n",
    "from skimage.filters import threshold_otsu\n",
    "from skimage.util import invert\n",
    "\n",
    "from PIL import Image, ImageFilter\n",
    "\n",
    "import os\n",
    "import pickle\n",
    "import numpy as np\n",
    "import matplotlib.pyplot as plt"
   ]
  },
  {
   "cell_type": "markdown",
   "id": "36650354",
   "metadata": {},
   "source": [
    "### Functions"
   ]
  },
  {
   "cell_type": "code",
   "execution_count": 2,
   "id": "503763da",
   "metadata": {},
   "outputs": [],
   "source": [
    "def grey_image_transform(image):\n",
    "    return color.rgb2gray(image)\n",
    "\n",
    "def binarize_image(image):\n",
    "    thresh = threshold_otsu(image)\n",
    "    image = image > thresh\n",
    "    return image\n",
    "\n",
    "def get_image_edges(image):\n",
    "    image = grey_image_transform(image)\n",
    "    image = binarize_image(image)\n",
    "    image = invert(image)\n",
    "    edges = filters.sobel(image)\n",
    "    edges = binarize_image(edges)\n",
    "    return edges\n",
    "\n",
    "def get_pillow_image_edges(image):\n",
    "    image = image.convert(\"L\")    # Converting Image to Gray\n",
    "    edges = image.filter(ImageFilter.FIND_EDGES)\n",
    "    edges = np.array(edges)\n",
    "    edges = binarize_image(edges)\n",
    "    return edges\n",
    "\n",
    "def plot_images(image, chull):\n",
    "    fig, axes = plt.subplots(1, 2, figsize=(8, 4))\n",
    "    ax = axes.ravel()\n",
    "\n",
    "    ax[0].set_title('Original picture')\n",
    "    ax[0].imshow(image, cmap=plt.cm.gray)\n",
    "    ax[0].set_axis_off()\n",
    "\n",
    "    ax[1].set_title('Transformed picture')\n",
    "    ax[1].imshow(chull, cmap=plt.cm.gray)\n",
    "    ax[1].set_axis_off()\n",
    "\n",
    "    plt.tight_layout()\n",
    "    plt.show()  "
   ]
  },
  {
   "cell_type": "markdown",
   "id": "5069efac",
   "metadata": {},
   "source": [
    "### Read Data and Get Edges Information"
   ]
  },
  {
   "cell_type": "code",
   "execution_count": 3,
   "id": "1c05c94d",
   "metadata": {},
   "outputs": [],
   "source": [
    "# input_dir = './../../data/images/'\n",
    "# output_dir = './../../data/results/img_processing/'\n",
    "\n",
    "\n",
    "input_dir = './../../../temp_data/images/'\n",
    "output_dir = './../../../temp_data/results/img_processing/'"
   ]
  },
  {
   "cell_type": "code",
   "execution_count": 4,
   "id": "8ec61fb4",
   "metadata": {},
   "outputs": [],
   "source": [
    "dir_list = os.listdir(input_dir)\n",
    "results = {}\n",
    "\n",
    "for image in dir_list:\n",
    "    img = io.imread(input_dir + image)\n",
    "    edges = get_image_edges(img)\n",
    "    results[image] = edges\n",
    "#     plot_images(img,edges)"
   ]
  },
  {
   "cell_type": "markdown",
   "id": "dca0d902",
   "metadata": {},
   "source": [
    "### Get PILLOW library detected Edges"
   ]
  },
  {
   "cell_type": "code",
   "execution_count": 5,
   "id": "a2b88d1b",
   "metadata": {},
   "outputs": [],
   "source": [
    "dir_list = os.listdir(input_dir)\n",
    "pillow_results = {}\n",
    "\n",
    "for image in dir_list:\n",
    "    img = Image.open(input_dir + image)\n",
    "    edges = get_pillow_image_edges(img)\n",
    "    pillow_results[image] = edges\n",
    "#     plot_images(img,edges)"
   ]
  },
  {
   "cell_type": "markdown",
   "id": "78dfe9ca",
   "metadata": {},
   "source": [
    "### Store Results"
   ]
  },
  {
   "cell_type": "code",
   "execution_count": 6,
   "id": "f47e1662",
   "metadata": {},
   "outputs": [],
   "source": [
    "## Values get stored as True, if they are edges detected else False\n",
    "\n",
    "with open(output_dir+'edges_results.pkl', 'wb') as outp:  # Overwrites any existing file.\n",
    "    pickle.dump(results, outp, pickle.HIGHEST_PROTOCOL)\n",
    "    \n",
    "with open(output_dir+'pillow_edges_results.pkl', 'wb') as outp:  # Overwrites any existing file.\n",
    "    pickle.dump(results, outp, pickle.HIGHEST_PROTOCOL)"
   ]
  }
 ],
 "metadata": {
  "kernelspec": {
   "display_name": "Python 3 (ipykernel)",
   "language": "python",
   "name": "python3"
  },
  "language_info": {
   "codemirror_mode": {
    "name": "ipython",
    "version": 3
   },
   "file_extension": ".py",
   "mimetype": "text/x-python",
   "name": "python",
   "nbconvert_exporter": "python",
   "pygments_lexer": "ipython3",
   "version": "3.8.10"
  }
 },
 "nbformat": 4,
 "nbformat_minor": 5
}
