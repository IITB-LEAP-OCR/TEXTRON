{
 "cells": [
  {
   "cell_type": "markdown",
   "id": "f7b6adad",
   "metadata": {},
   "source": [
    "### Imports"
   ]
  },
  {
   "cell_type": "code",
   "execution_count": 1,
   "id": "36b7fd83",
   "metadata": {},
   "outputs": [],
   "source": [
    "import os\n",
    "import pickle\n",
    "import numpy as np\n",
    "import matplotlib.pyplot as plt\n",
    "\n",
    "from skimage import io, color\n",
    "from skimage.util import invert\n",
    "from skimage.filters import threshold_otsu\n",
    "from skimage.morphology import convex_hull_image"
   ]
  },
  {
   "cell_type": "markdown",
   "id": "000cde65",
   "metadata": {},
   "source": [
    "### Functions"
   ]
  },
  {
   "cell_type": "code",
   "execution_count": 2,
   "id": "24c35398",
   "metadata": {},
   "outputs": [],
   "source": [
    "def get_convex_hulls(image):\n",
    "    image = color.rgb2gray(image)\n",
    "    \n",
    "    thresh = threshold_otsu(image)\n",
    "    image = image > thresh\n",
    "    \n",
    "    convex_hull_1 = convex_hull_image(image)\n",
    "    image = invert(image)\n",
    "    convex_hull_2 = convex_hull_image(image)\n",
    "    \n",
    "    intersection_hull = np.bitwise_and(convex_hull_1, convex_hull_2)\n",
    "    return intersection_hull\n",
    "\n",
    "\n",
    "def plot_images(images):\n",
    "    \n",
    "    val = len(images)\n",
    "    fig, axes = plt.subplots(int(val/2), val, figsize=(8, 4))\n",
    "    ax = axes.ravel()\n",
    "\n",
    "    for i in range(len(images)):\n",
    "        ax[i].set_title('Image' + str(i))\n",
    "        ax[i].imshow(images[i], cmap=plt.cm.gray)\n",
    "        ax[i].set_axis_off()\n",
    "\n",
    "    plt.tight_layout()\n",
    "    plt.show()   "
   ]
  },
  {
   "cell_type": "markdown",
   "id": "01117566",
   "metadata": {},
   "source": [
    "### Read Data and Get Convex Hulls"
   ]
  },
  {
   "cell_type": "code",
   "execution_count": 3,
   "id": "72909106",
   "metadata": {},
   "outputs": [],
   "source": [
    "# input_dir = './../../data/images/'\n",
    "# output_dir = './../../data/results/img_processing/'\n",
    "\n",
    "\n",
    "input_dir = './../../../temp_data/images/'\n",
    "output_dir = './../../../temp_data/results/img_processing/'"
   ]
  },
  {
   "cell_type": "code",
   "execution_count": 4,
   "id": "067d2b2e",
   "metadata": {},
   "outputs": [],
   "source": [
    "dir_list = os.listdir(input_dir)\n",
    "results = {}\n",
    "\n",
    "for image in dir_list:\n",
    "    img = io.imread(input_dir + image)\n",
    "    chull = get_convex_hulls(img)\n",
    "    results[image] = chull\n",
    "#     plot_images([img,chull])"
   ]
  },
  {
   "cell_type": "markdown",
   "id": "5a3869fe",
   "metadata": {},
   "source": [
    "### Store Results"
   ]
  },
  {
   "cell_type": "code",
   "execution_count": 5,
   "id": "dfe8216b",
   "metadata": {},
   "outputs": [],
   "source": [
    "## Values get stored as True, if they are present inside Convex hull else False\n",
    "\n",
    "with open(output_dir+'convex_hull_results.pkl', 'wb') as outp:  # Overwrites any existing file.\n",
    "    pickle.dump(results, outp, pickle.HIGHEST_PROTOCOL)"
   ]
  }
 ],
 "metadata": {
  "kernelspec": {
   "display_name": "Python 3 (ipykernel)",
   "language": "python",
   "name": "python3"
  },
  "language_info": {
   "codemirror_mode": {
    "name": "ipython",
    "version": 3
   },
   "file_extension": ".py",
   "mimetype": "text/x-python",
   "name": "python",
   "nbconvert_exporter": "python",
   "pygments_lexer": "ipython3",
   "version": "3.8.10"
  }
 },
 "nbformat": 4,
 "nbformat_minor": 5
}
