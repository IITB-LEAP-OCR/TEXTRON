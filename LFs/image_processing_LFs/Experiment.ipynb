{
 "cells": [
  {
   "cell_type": "code",
   "execution_count": null,
   "id": "41e4e6a9",
   "metadata": {},
   "outputs": [],
   "source": [
    "# import skimage\n",
    "# edges = skimage.img_as_ubyte(edges)"
   ]
  },
  {
   "cell_type": "code",
   "execution_count": null,
   "id": "0ca8321c",
   "metadata": {},
   "outputs": [],
   "source": [
    "from skimage.measure import find_contours\n",
    "from skimage.io import imread\n",
    "import matplotlib.pyplot as plt\n",
    "from skimage.color import rgb2gray\n",
    "\n",
    "orig_img = imread('./../data/images/docbank_test_page-0001.jpg')\n",
    "gray_img = rgb2gray(orig_img)\n",
    "plt.imshow(gray_img,interpolation='nearest', cmap=plt.cm.gray)"
   ]
  },
  {
   "cell_type": "code",
   "execution_count": null,
   "id": "c88c7b15",
   "metadata": {},
   "outputs": [],
   "source": [
    "contours = find_contours(gray_img, 0.8)\n",
    "\n",
    "fig, ax = plt.subplots()\n",
    "ax.imshow(gray_img, interpolation='nearest', cmap=plt.cm.gray)\n",
    "\n",
    "for n, contour in enumerate(contours):\n",
    "    ax.plot(contours[n][:, 1], contours[n][:, 0], linewidth=2)\n",
    "\n",
    "plt.show()"
   ]
  },
  {
   "cell_type": "code",
   "execution_count": null,
   "id": "e67b99c5",
   "metadata": {},
   "outputs": [],
   "source": [
    "import numpy as np\n",
    "from skimage.draw import polygon_perimeter\n",
    "\n",
    "bounding_boxes = []\n",
    "\n",
    "for contour in contours:\n",
    "    Xmin = np.min(contour[:,0])\n",
    "    Xmax = np.max(contour[:,0])\n",
    "    Ymin = np.min(contour[:,1])\n",
    "    Ymax = np.max(contour[:,1])\n",
    "    \n",
    "    bounding_boxes.append([Xmin, Xmax, Ymin, Ymax])\n",
    "\n",
    "\n",
    "with_boxes  = np.copy(gray_img)\n",
    "\n",
    "for box in bounding_boxes:\n",
    "    #[Xmin, Xmax, Ymin, Ymax]\n",
    "    r = [box[0],box[1],box[1],box[0], box[0]]\n",
    "    c = [box[3],box[3],box[2],box[2], box[3]]\n",
    "    rr, cc = polygon_perimeter(r, c, with_boxes.shape)\n",
    "    with_boxes[rr, cc] = 0.2 #set color white\n",
    "\n",
    "plt.imshow(with_boxes, interpolation='nearest', cmap=plt.cm.gray)\n",
    "plt.show()"
   ]
  }
 ],
 "metadata": {
  "kernelspec": {
   "display_name": "Python 3 (ipykernel)",
   "language": "python",
   "name": "python3"
  },
  "language_info": {
   "codemirror_mode": {
    "name": "ipython",
    "version": 3
   },
   "file_extension": ".py",
   "mimetype": "text/x-python",
   "name": "python",
   "nbconvert_exporter": "python",
   "pygments_lexer": "ipython3",
   "version": "3.8.10"
  }
 },
 "nbformat": 4,
 "nbformat_minor": 5
}
