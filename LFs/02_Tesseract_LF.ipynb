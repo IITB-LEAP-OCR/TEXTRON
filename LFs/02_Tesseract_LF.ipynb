{
 "cells": [
  {
   "cell_type": "markdown",
   "id": "a0a14767",
   "metadata": {},
   "source": [
    "### Imports"
   ]
  },
  {
   "cell_type": "code",
   "execution_count": 1,
   "id": "349198d8",
   "metadata": {},
   "outputs": [],
   "source": [
    "import os\n",
    "import cv2\n",
    "import pickle\n",
    "from pytesseract import Output, image_to_data\n",
    "from skimage import io, color\n",
    "from skimage.filters import threshold_otsu"
   ]
  },
  {
   "cell_type": "markdown",
   "id": "50e0a3f1",
   "metadata": {},
   "source": [
    "### Functions"
   ]
  },
  {
   "cell_type": "code",
   "execution_count": 2,
   "id": "d6bc6709",
   "metadata": {},
   "outputs": [],
   "source": [
    "def process_image(image):\n",
    "    image = color.rgb2gray(image)\n",
    "    \n",
    "    thresh = threshold_otsu(image)\n",
    "    image = image > thresh\n",
    "    return image"
   ]
  },
  {
   "cell_type": "markdown",
   "id": "ee578e95",
   "metadata": {},
   "source": [
    "### Get Bounding Boxes"
   ]
  },
  {
   "cell_type": "code",
   "execution_count": 3,
   "id": "40eccb4a",
   "metadata": {},
   "outputs": [],
   "source": [
    "location = './../../temp_data/images/'\n",
    "output_dir = './../../temp_data/results/tesseract/'\n",
    "dir_list = os.listdir(location)"
   ]
  },
  {
   "cell_type": "code",
   "execution_count": 4,
   "id": "a6f89254",
   "metadata": {},
   "outputs": [],
   "source": [
    "dimensions = {}\n",
    "results = {}\n",
    "pixels = {}\n",
    "\n",
    "for image in dir_list:\n",
    "    values = []\n",
    "    img = io.imread(location + image)\n",
    "    d = image_to_data(img, output_type=Output.DICT)\n",
    "    for i in range(len(d['level'])):\n",
    "        (x, y, w, h) = (d['left'][i], d['top'][i], d['width'][i], d['height'][i])\n",
    "        (x, y, w, h) = (int(x), int(y), int(w), int(h))\n",
    "        values.append([x,y,x+w,y+h])\n",
    "        if(x==0 and y==0):\n",
    "            continue\n",
    "        else:\n",
    "            cv2.rectangle(img, (x, y), (x + w, y + h), (0, 0, 0), -1)\n",
    "    dimensions[image] = values\n",
    "    results[image] = d\n",
    "    img = process_image(img)\n",
    "    img = img*1\n",
    "    pixels[image] = img\n",
    "#     io.imsave(output_dir + 'images/' + image, img)"
   ]
  },
  {
   "cell_type": "markdown",
   "id": "ccd8adb8",
   "metadata": {},
   "source": [
    "### Store Results"
   ]
  },
  {
   "cell_type": "code",
   "execution_count": 5,
   "id": "05384cd6",
   "metadata": {},
   "outputs": [],
   "source": [
    "with open(output_dir+'results.pkl', 'wb') as outp:  # Overwrites any existing file.\n",
    "    pickle.dump(results, outp, pickle.HIGHEST_PROTOCOL)\n",
    "    \n",
    "with open(output_dir+'pixels.pkl', 'wb') as outp:  # Overwrites any existing file.\n",
    "    pickle.dump(pixels, outp, pickle.HIGHEST_PROTOCOL)\n",
    "\n",
    "with open(output_dir+'dimensions.pkl', 'wb') as outp:  # Overwrites any existing file.\n",
    "    pickle.dump(dimensions, outp, pickle.HIGHEST_PROTOCOL)"
   ]
  }
 ],
 "metadata": {
  "kernelspec": {
   "display_name": "Python 3 (ipykernel)",
   "language": "python",
   "name": "python3"
  },
  "language_info": {
   "codemirror_mode": {
    "name": "ipython",
    "version": 3
   },
   "file_extension": ".py",
   "mimetype": "text/x-python",
   "name": "python",
   "nbconvert_exporter": "python",
   "pygments_lexer": "ipython3",
   "version": "3.8.10"
  }
 },
 "nbformat": 4,
 "nbformat_minor": 5
}
