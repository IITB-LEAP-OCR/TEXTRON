{
 "cells": [
  {
   "cell_type": "code",
   "execution_count": 1,
   "id": "f526daef",
   "metadata": {},
   "outputs": [],
   "source": [
    "import pandas as pd\n",
    "import os\n",
    "import shutil\n",
    "from tqdm import tqdm\n",
    "import cv2"
   ]
  },
  {
   "cell_type": "markdown",
   "id": "07ef0c6f",
   "metadata": {},
   "source": [
    "### Removing Column and adding label class"
   ]
  },
  {
   "cell_type": "code",
   "execution_count": 6,
   "id": "97d86058",
   "metadata": {},
   "outputs": [],
   "source": [
    "dir1 = './temp/txt_gt_edited/'\n",
    "\n",
    "for file in os.listdir(dir1):\n",
    "    df = pd.read_csv(dir1 + file, delimiter=' ',\n",
    "                     names=[\"token\", \"x0\", \"y0\", \"x1\", \"y1\", \"R\", \"G\", \"B\", \"font name\", \"label\"])\n",
    "    df['token'] = \"text\"\n",
    "    df.to_csv(dir1 + file, sep = ' ', index=False, header=False)"
   ]
  },
  {
   "cell_type": "markdown",
   "id": "926caf03",
   "metadata": {},
   "source": [
    "### Copying Files"
   ]
  },
  {
   "cell_type": "code",
   "execution_count": 16,
   "id": "9afcc6a5",
   "metadata": {},
   "outputs": [],
   "source": [
    "val = './temp/txt_gt/'\n",
    "val2 = './data/00_docbank_20k/doctr_txt/'\n",
    "val3 = './temp/txt_doctr/'\n",
    "\n",
    "for file in os.listdir(val):\n",
    "    file1 = file[:-4] + '_ori.txt'\n",
    "    shutil.copy(val2+file1, val3+file1)"
   ]
  },
  {
   "cell_type": "markdown",
   "id": "5f6f278b",
   "metadata": {},
   "source": [
    "### Removing Column headers"
   ]
  },
  {
   "cell_type": "code",
   "execution_count": 7,
   "id": "10bef0f1",
   "metadata": {},
   "outputs": [],
   "source": [
    "dir1 = './temp/txt_doctr/'\n",
    "\n",
    "for file in os.listdir(dir1):\n",
    "    df = pd.read_csv(dir1 + file, delimiter=' ')\n",
    "    df.to_csv(dir1 + file, sep = ' ', index=False, header=False)"
   ]
  },
  {
   "cell_type": "markdown",
   "id": "8ddbc8e3",
   "metadata": {},
   "source": [
    "### Renaming File Names"
   ]
  },
  {
   "cell_type": "code",
   "execution_count": 15,
   "id": "2f60ad42",
   "metadata": {},
   "outputs": [],
   "source": [
    "dir1 = './temp/txt_pred/'\n",
    "dir2 = './temp/pred_txt/'\n",
    "\n",
    "for file in os.listdir(dir1):\n",
    "    df = pd.read_csv(dir1 + file, delimiter=' ', names=[\"token\", \"confidence\", \"x0\", \"y0\", \"x1\", \"y1\"])\n",
    "    file = file[:-8] + '.txt'\n",
    "    df.to_csv(dir2 + file, sep = ' ', index=False, header=False)"
   ]
  },
  {
   "cell_type": "markdown",
   "id": "d3b6dde3",
   "metadata": {},
   "source": [
    "### Draw Bounding boxes for Ground truth"
   ]
  },
  {
   "cell_type": "code",
   "execution_count": 9,
   "id": "95627788",
   "metadata": {},
   "outputs": [
    {
     "name": "stderr",
     "output_type": "stream",
     "text": [
      "100%|█████████████████████████████████████████████████████████████████████████████████████████████████████████████████████████████████████████████████████████████████████████████| 3465/3465 [00:54<00:00, 63.44it/s]\n"
     ]
    }
   ],
   "source": [
    "input_img_dir = './processed/docbank_20k/images/'\n",
    "input_txt_dir = './temp/txt_gt_edited/'\n",
    "output_ann_dir = './temp/txt_gt_final/'\n",
    "\n",
    "dir_list = os.listdir(input_txt_dir)\n",
    "\n",
    "for file in tqdm(dir_list):\n",
    "    name = file[:len(file) - 4]\n",
    "    ori_img1 = cv2.imread(input_img_dir + name + '_pro.jpg')\n",
    "    df = pd.read_csv(input_txt_dir+file, delimiter=' ',\n",
    "                     names=[\"token\", \"x0\", \"y0\", \"x1\", \"y1\", \"R\", \"G\", \"B\", \"font name\", \"label\"])\n",
    "\n",
    "    height, width, _ = ori_img1.shape\n",
    "    df['x0'] = df['x0'].apply(lambda x : int(x*width/1000))\n",
    "    df['y0'] = df['y0'].apply(lambda x : int(x*height/1000))\n",
    "    df['x1'] = df['x1'].apply(lambda x : int(x*width/1000))\n",
    "    df['y1'] = df['y1'].apply(lambda x : int(x*height/1000))\n",
    "\n",
    "    df.to_csv(output_ann_dir + file, sep = ' ', index=False, header=False)"
   ]
  },
  {
   "cell_type": "code",
   "execution_count": null,
   "id": "93f284e0",
   "metadata": {},
   "outputs": [],
   "source": []
  }
 ],
 "metadata": {
  "kernelspec": {
   "display_name": "Python 3 (ipykernel)",
   "language": "python",
   "name": "python3"
  },
  "language_info": {
   "codemirror_mode": {
    "name": "ipython",
    "version": 3
   },
   "file_extension": ".py",
   "mimetype": "text/x-python",
   "name": "python",
   "nbconvert_exporter": "python",
   "pygments_lexer": "ipython3",
   "version": "3.8.10"
  }
 },
 "nbformat": 4,
 "nbformat_minor": 5
}
