{
 "cells": [
  {
   "cell_type": "markdown",
   "id": "a3342dbb",
   "metadata": {},
   "source": [
    "### Imports"
   ]
  },
  {
   "cell_type": "code",
   "execution_count": 1,
   "id": "e520afb4",
   "metadata": {},
   "outputs": [],
   "source": [
    "import cv2\n",
    "import os\n",
    "\n",
    "from skimage import io, color\n",
    "from skimage.filters import threshold_otsu"
   ]
  },
  {
   "cell_type": "code",
   "execution_count": 2,
   "id": "d4e73ec3",
   "metadata": {},
   "outputs": [],
   "source": [
    "def process_image(image):\n",
    "    image = color.rgb2gray(image) \n",
    "    thresh = threshold_otsu(image)\n",
    "    image = image > thresh\n",
    "    return image"
   ]
  },
  {
   "cell_type": "markdown",
   "id": "f2600dec",
   "metadata": {},
   "source": [
    "### Convert Images to black&white and resize images to annotation size"
   ]
  },
  {
   "cell_type": "code",
   "execution_count": 3,
   "id": "cb094750",
   "metadata": {},
   "outputs": [],
   "source": [
    "input_dir1  = './../../docbank_processed/processed_data/ori_black/'\n",
    "input_dir2  = './../../docbank_processed/processed_data/ann/'\n",
    "output_dir1 = './../../docbank_processed/processed_data/spear_ori_black/'\n",
    "\n",
    "# input_dir1  = './../../docbank_processed/processed_data/only_eqn/ori_black/'\n",
    "# input_dir2  = './../../docbank_processed/processed_data/only_eqn/ann/'\n",
    "# output_dir1 = './../../docbank_processed/processed_data/only_eqn/spear_ori_black/'\n",
    "\n",
    "dir_list = os.listdir(input_dir2)"
   ]
  },
  {
   "cell_type": "code",
   "execution_count": 4,
   "id": "9e710a14",
   "metadata": {},
   "outputs": [
    {
     "name": "stderr",
     "output_type": "stream",
     "text": [
      "/tmp/ipykernel_2247302/3426942229.py:7: UserWarning: ./../../docbank_processed/processed_data/spear_ori_black/148.tar_1707.02008.gz_ms_9_ori_pro.jpg is a low contrast image\n",
      "  io.imsave(output_dir1 + name + 'ori_pro.jpg', pro_img)\n"
     ]
    }
   ],
   "source": [
    "for img in dir_list:\n",
    "    img1 = io.imread(input_dir2 + img)\n",
    "    x,y,_ = img1.shape\n",
    "    name = img[:len(img) - 11]\n",
    "    img2 = io.imread(input_dir1 + name + 'ori_pro.jpg')\n",
    "    pro_img = cv2.resize(img2, (y,x))\n",
    "    io.imsave(output_dir1 + name + 'ori_pro.jpg', pro_img)"
   ]
  },
  {
   "cell_type": "code",
   "execution_count": 6,
   "id": "5d45dbdb",
   "metadata": {},
   "outputs": [
    {
     "data": {
      "text/plain": [
       "(841, 595, 3)"
      ]
     },
     "execution_count": 6,
     "metadata": {},
     "output_type": "execute_result"
    }
   ],
   "source": [
    "pro_img.shape"
   ]
  },
  {
   "cell_type": "code",
   "execution_count": 7,
   "id": "4fdc710b",
   "metadata": {},
   "outputs": [
    {
     "data": {
      "text/plain": [
       "(841, 595, 3)"
      ]
     },
     "execution_count": 7,
     "metadata": {},
     "output_type": "execute_result"
    }
   ],
   "source": [
    "img1.shape"
   ]
  },
  {
   "cell_type": "code",
   "execution_count": null,
   "id": "b90fcf01",
   "metadata": {},
   "outputs": [],
   "source": []
  }
 ],
 "metadata": {
  "kernelspec": {
   "display_name": "Python 3 (ipykernel)",
   "language": "python",
   "name": "python3"
  },
  "language_info": {
   "codemirror_mode": {
    "name": "ipython",
    "version": 3
   },
   "file_extension": ".py",
   "mimetype": "text/x-python",
   "name": "python",
   "nbconvert_exporter": "python",
   "pygments_lexer": "ipython3",
   "version": "3.8.10"
  },
  "vscode": {
   "interpreter": {
    "hash": "5368b70afacc6a167ffe0ddc5245741a1e692df649f684fa7bf3f17bbd1380d5"
   }
  }
 },
 "nbformat": 4,
 "nbformat_minor": 5
}
