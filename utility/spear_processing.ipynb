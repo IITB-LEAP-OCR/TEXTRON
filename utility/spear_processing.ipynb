{
 "cells": [
  {
   "cell_type": "markdown",
   "id": "a3342dbb",
   "metadata": {},
   "source": [
    "### Imports"
   ]
  },
  {
   "cell_type": "code",
   "execution_count": null,
   "id": "e520afb4",
   "metadata": {},
   "outputs": [],
   "source": [
    "import cv2\n",
    "import os\n",
    "\n",
    "from skimage import io, color\n",
    "from skimage.filters import threshold_otsu"
   ]
  },
  {
   "cell_type": "code",
   "execution_count": null,
   "id": "d4e73ec3",
   "metadata": {},
   "outputs": [],
   "source": [
    "def process_image(image):\n",
    "    image = color.rgb2gray(image) \n",
    "    thresh = threshold_otsu(image)\n",
    "    image = image > thresh\n",
    "    return image"
   ]
  },
  {
   "cell_type": "markdown",
   "id": "1e367b12",
   "metadata": {},
   "source": [
    "### Resize Images to Annotation size"
   ]
  },
  {
   "cell_type": "code",
   "execution_count": null,
   "id": "9e710a14",
   "metadata": {},
   "outputs": [],
   "source": [
    "input_dir1  = './../../docbank_processed/processed_data/ori_black/'\n",
    "input_dir2  = './../../docbank_processed/processed_data/ann/'\n",
    "output_dir1 = './../../docbank_processed/processed_data/spear_ori_black/'\n",
    "\n",
    "# input_dir1  = './../../docbank_processed/processed_data/only_eqn/ori_black/'\n",
    "# input_dir2  = './../../docbank_processed/processed_data/only_eqn/ann/'\n",
    "# output_dir1 = './../../docbank_processed/processed_data/only_eqn/spear_ori_black/'\n",
    "\n",
    "dir_list = os.listdir(input_dir2)\n",
    "\n",
    "for img in dir_list:\n",
    "    img1 = io.imread(input_dir2 + img)\n",
    "    x,y,_ = img1.shape\n",
    "    name = img[:len(img) - 11]\n",
    "    img2 = io.imread(input_dir1 + name + 'ori_pro.jpg')\n",
    "    pro_img = cv2.resize(img2, (y,x))\n",
    "    io.imsave(output_dir1 + name + 'ori_pro.jpg', pro_img)"
   ]
  },
  {
   "cell_type": "markdown",
   "id": "8c6a3321",
   "metadata": {},
   "source": [
    "### Save DocTR Predictions"
   ]
  },
  {
   "cell_type": "code",
   "execution_count": null,
   "id": "1b8f0851",
   "metadata": {},
   "outputs": [],
   "source": [
    "import os\n",
    "import pickle\n",
    "\n",
    "from skimage import io\n",
    "import pandas as pd\n",
    "import cv2\n",
    "\n",
    "from doctr.io import DocumentFile\n",
    "from doctr.models import ocr_predictor\n",
    "\n",
    "model = ocr_predictor(pretrained=True)\n",
    "\n",
    "input_dir   = './docbank_processed/processed_data/ori_black/'\n",
    "output_dir  = './docbank_processed/resultant_data/doctr/' \n",
    "\n",
    "dir_list = os.listdir(input_dir)\n",
    "results = {}\n",
    "images = []\n",
    "\n",
    "for image in dir_list:\n",
    "    doc = DocumentFile.from_images(input_dir+image)\n",
    "    result = model(doc)\n",
    "    results[image] = result\n",
    "    images.append(image)\n",
    "    \n",
    "# for i in range(len(results)):\n",
    "#     results[i].show(docs[i])\n",
    "\n",
    "dimensions = {}\n",
    "total = {}\n",
    "for image,result in results.items():\n",
    "    dim = tuple(reversed(result.pages[0].dimensions))\n",
    "    predictions = []\n",
    "    img = io.imread(os.path.join(input_dir,image))\n",
    "    for block in result.pages[0].blocks:\n",
    "        for line in block.lines:\n",
    "            for word in line.words:\n",
    "                values = []\n",
    "                geo = word.geometry\n",
    "                a = list(int(a*b) for a,b in zip(geo[0],dim))\n",
    "                b = list(int(a*b) for a,b in zip(geo[1],dim))\n",
    "                values.append(a[0])\n",
    "                values.append(a[1])\n",
    "                values.append(b[0])\n",
    "                values.append(b[1])\n",
    "                values.append(word.value)\n",
    "                values.append(word.confidence)\n",
    "                predictions.append(values)\n",
    "                cv2.rectangle(img, (a[0], a[1]), (b[0], b[1]), (0, 0, 255))\n",
    "    io.imsave(output_dir + 'images/' + image,img)\n",
    "    total[image] = predictions\n",
    "    \n",
    "    \n",
    "for image,result in total.items():\n",
    "    name = image[:len(image) - 12]\n",
    "    df = pd.DataFrame(result, columns = ['x0', 'y0', 'x1', 'y1', 'prediction', 'confidence'])\n",
    "    df.to_csv(output_dir + 'txt/' + name + '.txt', sep='\\t',index=False)\n",
    "\n",
    "with open(output_dir+'results.pkl', 'wb') as outp:  # Overwrites any existing file.\n",
    "    pickle.dump(results, outp, pickle.HIGHEST_PROTOCOL)"
   ]
  },
  {
   "cell_type": "markdown",
   "id": "9eafdbff",
   "metadata": {},
   "source": [
    "### Save Tesseract Predictions"
   ]
  },
  {
   "cell_type": "code",
   "execution_count": null,
   "id": "d8fbe47d",
   "metadata": {},
   "outputs": [],
   "source": [
    "import os\n",
    "import cv2\n",
    "import pickle\n",
    "from pytesseract import Output, image_to_data\n",
    "\n",
    "input_dir   = './docbank_processed/processed_data/ori_black/'\n",
    "output_dir  = './docbank_processed/resultant_data/tesseract/' \n",
    "dir_list = os.listdir(input_dir)\n",
    "\n",
    "dimensions = {}\n",
    "results = {}\n",
    "total = {}\n",
    "\n",
    "for image in dir_list:\n",
    "    predictions = []\n",
    "    img = cv2.imread(input_dir + image)\n",
    "    d = image_to_data(img, output_type=Output.DICT)\n",
    "    for i in range(len(d['level'])):\n",
    "        values = []\n",
    "        (x, y, w, h) = (d['left'][i], d['top'][i], d['width'][i], d['height'][i])\n",
    "        (x, y, w, h) = (int(x), int(y), int(w), int(h))\n",
    "        values.append('text')\n",
    "        values.append(d['conf'][i])\n",
    "        values = values + [x,y,w,h]\n",
    "        values.append(d['text'][i])\n",
    "        if(x==0 and y==0):\n",
    "            continue\n",
    "        else:\n",
    "            cv2.rectangle(img, (x, y), (x + w, y + h), (0, 0, 255))\n",
    "        predictions.append(values)\n",
    "    total[image] = predictions\n",
    "    results[image] = d\n",
    "    cv2.imwrite(output_dir + 'images/' + image, img)\n",
    "\n",
    "for image,result in total.items():\n",
    "    name = image[:len(image) - 12]\n",
    "    df = pd.DataFrame(result, columns = ['class', 'confidence', 'X', 'Y', 'W', 'H', 'prediction'])\n",
    "    df.to_csv(output_dir + 'txt/' + name + '.txt', sep='\\t',index=False)\n",
    "\n",
    "with open(output_dir+'results.pkl', 'wb') as outp:  # Overwrites any existing file.\n",
    "    pickle.dump(results, outp, pickle.HIGHEST_PROTOCOL)"
   ]
  },
  {
   "cell_type": "markdown",
   "id": "76c12e1b",
   "metadata": {},
   "source": [
    "# REMOVE IMAGES"
   ]
  },
  {
   "cell_type": "code",
   "execution_count": null,
   "id": "dbd300a0",
   "metadata": {},
   "outputs": [],
   "source": [
    "input_dir   = './../../dataset/original/txt/'\n",
    "ori_img_dir = './../../dataset/original/images/'\n",
    "output_dir  = './../../dataset/processed/images/' \n",
    "\n",
    "\n",
    "ann_img_dir    = './../../dataset/original/ann/'\n",
    "ann_output_dir = './../../dataset/processed/ann/' \n",
    "txt_output_dir = './../../dataset/processed/txt/'\n",
    "\n",
    "\n",
    "dir_list = os.listdir(input_dir)\n",
    "results = {}\n",
    "images = []\n",
    "\n",
    "for file in tqdm(dir_list):\n",
    "    name = file[:len(file) - 4]\n",
    "    value = output_dir + name + '_ori_pro.jpg'\n",
    "    if not os.path.exists(value):\n",
    "        ori_img = cv2.imread(ori_img_dir + name + '_ori.jpg')\n",
    "        try:\n",
    "            df = pd.read_csv(input_dir+file, delimiter='\\t', \n",
    "                    names=[\"token\", \"x0\", \"y0\", \"x1\", \"y1\", \"R\", \"G\", \"B\", \"font name\", \"label\"])\n",
    "            df = df[df['label']=='figure'].reset_index()\n",
    "\n",
    "            height, width, _ = ori_img.shape\n",
    "            for i in range(df.shape[0]):\n",
    "                x0, y0, x1, y1  = (df['x0'][i], df['y0'][i], df['x1'][i], df['y1'][i])\n",
    "                x0, y0, x1, y1 = (int(x0*width/1000), int(y0*height/1000), int(x1*width/1000), int(y1*height/1000))\n",
    "                cv2.rectangle(ori_img, (x0, y0), (x1, y1), (255, 255, 255), cv2.FILLED)\n",
    "\n",
    "            cv2.imwrite(value, ori_img)\n",
    "        except:\n",
    "            continue\n",
    "\n",
    "dir_list = os.listdir(input_dir)\n",
    "results = {}\n",
    "images = []\n",
    "\n",
    "for file in tqdm(dir_list):\n",
    "    value = txt_output_dir + file\n",
    "    if not os.path.exists(value):\n",
    "        try:\n",
    "            df = pd.read_csv(input_dir+file, delimiter='\\t', \n",
    "                    names=[\"token\", \"x0\", \"y0\", \"x1\", \"y1\", \"R\", \"G\", \"B\", \"font name\", \"label\"])\n",
    "            df = df[df['label']!='figure'].reset_index()\n",
    "            df.to_csv(value, sep='\\t', index=False)\n",
    "        except:\n",
    "            continue\n",
    "     \n",
    "# Remove Images from Annotations    \n",
    "dir_list = os.listdir(input_dir)\n",
    "results = {}\n",
    "images = []\n",
    "\n",
    "for file in tqdm(dir_list):\n",
    "    name = file[:len(file) - 4]\n",
    "    ann_img = cv2.imread(ann_img_dir + name + '_ann.jpg')\n",
    "    df = pd.read_csv(input_dir+file, delimiter='\\t', \n",
    "                names=[\"token\", \"x0\", \"y0\", \"x1\", \"y1\", \"R\", \"G\", \"B\", \"font name\", \"label\"])\n",
    "    df = df[df['label']=='figure'].reset_index()\n",
    "    \n",
    "    height, width, _ = ann_img.shape\n",
    "    for i in range(df.shape[0]):\n",
    "        x0, y0, x1, y1  = (df['x0'][i], df['y0'][i], df['x1'][i], df['y1'][i])\n",
    "        x0, y0, x1, y1 = (int(x0*width/1000), int(y0*height/1000), int(x1*width/1000), int(y1*height/1000))\n",
    "        cv2.rectangle(ann_img, (x0, y0), (x1, y1), (255, 255, 255), cv2.FILLED)\n",
    "    \n",
    "    cv2.imwrite(ann_output_dir + name + '_ann_pro.jpg', ann_img)"
   ]
  },
  {
   "cell_type": "markdown",
   "id": "ce84364a",
   "metadata": {},
   "source": [
    "# EQUATIONS ONLY"
   ]
  },
  {
   "cell_type": "markdown",
   "id": "b3e2a84c",
   "metadata": {},
   "source": [
    "### Retain Only EQUATION Information"
   ]
  },
  {
   "cell_type": "code",
   "execution_count": null,
   "id": "4b52b591",
   "metadata": {},
   "outputs": [],
   "source": [
    "input_dir   = './../../docbank_processed/original_data/txt/'\n",
    "ori_img_dir = './../../docbank_processed/original_data/ori_black/'\n",
    "output_dir  = './../../docbank_processed/processed_data/only_eqn/ori_black/' \n",
    "\n",
    "dir_list = os.listdir(input_dir)\n",
    "results = {}\n",
    "images = []\n",
    "\n",
    "for file in dir_list:\n",
    "    name = file[:len(file) - 4]\n",
    "    ori_img = cv2.imread(ori_img_dir + name + '_ori.jpg')\n",
    "    df = pd.read_csv(input_dir+file, delimiter='\\t', \n",
    "                names=[\"token\", \"x0\", \"y0\", \"x1\", \"y1\", \"R\", \"G\", \"B\", \"font name\", \"label\"])\n",
    "    df = df[df['label']!='equation'].reset_index()\n",
    "    \n",
    "    height, width, _ = ori_img.shape\n",
    "    for i in range(df.shape[0]):\n",
    "        x0, y0, x1, y1  = (df['x0'][i], df['y0'][i], df['x1'][i], df['y1'][i])\n",
    "        x0, y0, x1, y1 = (int(x0*width/1000), int(y0*height/1000), int(x1*width/1000), int(y1*height/1000))\n",
    "        cv2.rectangle(ori_img, (x0, y0), (x1, y1), (255, 255, 255), cv2.FILLED)\n",
    "    \n",
    "    cv2.imwrite(output_dir + name + '_ori_pro.jpg', ori_img)"
   ]
  },
  {
   "cell_type": "markdown",
   "id": "f91c21df",
   "metadata": {},
   "source": [
    "### Retaion only EQUATION Information in Annotations"
   ]
  },
  {
   "cell_type": "code",
   "execution_count": null,
   "id": "9e97f13c",
   "metadata": {},
   "outputs": [],
   "source": [
    "input_dir   = './../../docbank_processed/original_data/txt/'\n",
    "ann_img_dir = './../../docbank_processed/original_data/ann/'\n",
    "output_dir  = './../../docbank_processed/processed_data/only_eqn/ann/' \n",
    "\n",
    "dir_list = os.listdir(input_dir)\n",
    "results = {}\n",
    "images = []\n",
    "\n",
    "for file in dir_list:\n",
    "    name = file[:len(file) - 4]\n",
    "    ann_img = cv2.imread(ann_img_dir + name + '_ann.jpg')\n",
    "    df = pd.read_csv(input_dir+file, delimiter='\\t', \n",
    "                names=[\"token\", \"x0\", \"y0\", \"x1\", \"y1\", \"R\", \"G\", \"B\", \"font name\", \"label\"])\n",
    "    df = df[df['label']!='equation'].reset_index()\n",
    "    \n",
    "    height, width, _ = ann_img.shape\n",
    "    for i in range(df.shape[0]):\n",
    "        x0, y0, x1, y1  = (df['x0'][i], df['y0'][i], df['x1'][i], df['y1'][i])\n",
    "        x0, y0, x1, y1 = (int(x0*width/1000), int(y0*height/1000), int(x1*width/1000), int(y1*height/1000))\n",
    "        cv2.rectangle(ann_img, (x0, y0), (x1, y1), (255, 255, 255), cv2.FILLED)\n",
    "    \n",
    "    cv2.imwrite(output_dir + name + '_ann_pro.jpg', ann_img)"
   ]
  },
  {
   "cell_type": "code",
   "execution_count": null,
   "id": "7403c11d",
   "metadata": {},
   "outputs": [],
   "source": [
    "input_dir   = './../../docbank_processed/original_data/txt/'\n",
    "ann_img_dir = './../../docbank_processed/original_data/ann/'\n",
    "output_dir  = './../../docbank_processed/processed_data/only_eqn/txt/' \n",
    "\n",
    "dir_list = os.listdir(input_dir)\n",
    "results = {}\n",
    "images = []\n",
    "\n",
    "for file in dir_list:\n",
    "    name = file[:len(file) - 4]\n",
    "    ann_img = cv2.imread(ann_img_dir + name + '_ann.jpg')\n",
    "    df = pd.read_csv(input_dir+file, delimiter='\\t', \n",
    "                names=[\"token\", \"x0\", \"y0\", \"x1\", \"y1\", \"R\", \"G\", \"B\", \"font name\", \"label\"])\n",
    "    df = df[df['label']=='equation'].reset_index()\n",
    "    df.to_csv(output_dir + file,sep='\\t',index=False)"
   ]
  },
  {
   "cell_type": "markdown",
   "id": "c5dddadc",
   "metadata": {},
   "source": [
    "### Remove files with No Equations"
   ]
  },
  {
   "cell_type": "code",
   "execution_count": null,
   "id": "e00d8fd6",
   "metadata": {},
   "outputs": [],
   "source": [
    "input_dir   = './../../../docbank_processed/processed_data/only_eqn/ori_txt/'\n",
    "ori_txt_dir = './../../../docbank_processed/processed_data/only_eqn/ori_txt/'\n",
    "parent = './../../../docbank_processed/processed_data/only_eqn/'\n",
    "\n",
    "dir_list = os.listdir(input_dir)\n",
    "\n",
    "for dir1 in os.listdir(parent):\n",
    "    for file2 in os.listdir(parent+dir1):\n",
    "        found = False\n",
    "        for file in os.listdir(ori_txt_dir):\n",
    "            name = file[:len(file) - 4]\n",
    "            if(name in file2):\n",
    "                found = True\n",
    "                break\n",
    "        if(found==False):\n",
    "            os.remove(parent+dir1+'/'+file2)"
   ]
  }
 ],
 "metadata": {
  "kernelspec": {
   "display_name": "Python 3",
   "language": "python",
   "name": "python3"
  },
  "language_info": {
   "codemirror_mode": {
    "name": "ipython",
    "version": 3
   },
   "file_extension": ".py",
   "mimetype": "text/x-python",
   "name": "python",
   "nbconvert_exporter": "python",
   "pygments_lexer": "ipython3",
   "version": "3.8.10 (default, Jun 22 2022, 20:18:18) \n[GCC 9.4.0]"
  },
  "vscode": {
   "interpreter": {
    "hash": "31f2aee4e71d21fbe5cf8b01ff0e069b9275f58929596ceb00d14d90e3e16cd6"
   }
  }
 },
 "nbformat": 4,
 "nbformat_minor": 5
}
