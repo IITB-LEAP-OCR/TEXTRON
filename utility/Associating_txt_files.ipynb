{
 "cells": [
  {
   "cell_type": "markdown",
   "id": "e402d7a3",
   "metadata": {},
   "source": [
    "### Imports"
   ]
  },
  {
   "cell_type": "code",
   "execution_count": 1,
   "id": "132643e2",
   "metadata": {},
   "outputs": [],
   "source": [
    "import glob\n",
    "import cv2"
   ]
  },
  {
   "cell_type": "markdown",
   "id": "348b68aa",
   "metadata": {},
   "source": [
    "### Functions"
   ]
  },
  {
   "cell_type": "code",
   "execution_count": null,
   "id": "5a0539de",
   "metadata": {},
   "outputs": [],
   "source": [
    "def getbboxesfromgtfile(file):\n",
    "    filename = file.split('/')[-1:][0]\n",
    "    f = open(file, 'r')\n",
    "    imgfile = gtimages + filename[:-4] + '_ori_pro.jpg'\n",
    "    img = cv2.imread(imgfile)\n",
    "    height, width, channel = img.shape\n",
    "    result = []\n",
    "    for lines in f:\n",
    "        llist = lines.split(' ')\n",
    "        x0 = int(llist[1])\n",
    "        y0 = int(llist[2])\n",
    "        #For cage gt, we will have to add x0 and y0\n",
    "        x1 = x0 + int(llist[3])\n",
    "        y1 = y0 + int(llist[4])\n",
    "        label = llist[0]\n",
    "        bbox = [x0, y0, x1, y1]\n",
    "        bboxdata = [label, bbox]\n",
    "        #print(bboxdata)\n",
    "        result.append(bboxdata)\n",
    "    return result\n",
    "\n",
    "def getbboxesfromdettfile(file):\n",
    "    f = open(file, 'r')\n",
    "    result  = []\n",
    "    i = 0\n",
    "    for lines in f:\n",
    "        if i == 0:\n",
    "            i = 1\n",
    "            continue\n",
    "        llist = lines.split(' ')\n",
    "        x0 = int(llist[2])\n",
    "        y0 = int(llist[3])\n",
    "        x1 = int(llist[4]) + x0\n",
    "        y1 = int(llist[5]) + y0\n",
    "        label = 'Unassigned'\n",
    "        conf = float(llist[1])\n",
    "        bbox = [x0, y0, x1, y1]\n",
    "        bboxdata = [label, bbox, conf]\n",
    "        #print(bboxdata)\n",
    "        result.append(bboxdata)\n",
    "    return result\n",
    "\n",
    "def filterbboxesforclass(bboxdata, classname):\n",
    "    result = []\n",
    "    for b in bboxdata:\n",
    "        if b[0] == classname:\n",
    "            result.append(b)\n",
    "    return result\n",
    "\n",
    "def iou(boxA, boxB):\n",
    "    # if boxes dont intersect\n",
    "    if boxesIntersect(boxA, boxB) is False:\n",
    "        return 0\n",
    "    interArea = getIntersectionArea(boxA, boxB)\n",
    "    union = getUnionAreas(boxA, boxB, interArea=interArea)\n",
    "    # intersection over union\n",
    "    iou = interArea / union\n",
    "    assert iou >= 0\n",
    "    return iou\n",
    "\n",
    "# boxA = (Ax1,Ay1,Ax2,Ay2)\n",
    "# boxB = (Bx1,By1,Bx2,By2)\n",
    "def boxesIntersect(boxA, boxB):\n",
    "    if boxA[0] > boxB[2]:\n",
    "        return False  # boxA is right of boxB\n",
    "    if boxB[0] > boxA[2]:\n",
    "        return False  # boxA is left of boxB\n",
    "    if boxA[3] < boxB[1]:\n",
    "        return False  # boxA is above boxB\n",
    "    if boxA[1] > boxB[3]:\n",
    "        return False  # boxA is below boxB\n",
    "    return True\n",
    "\n",
    "def getArea(box):\n",
    "    return (box[2] - box[0] + 1) * (box[3] - box[1] + 1)\n",
    "\n",
    "\n",
    "def getIntersectionArea(boxA, boxB):\n",
    "    xA = max(boxA[0], boxB[0])\n",
    "    yA = max(boxA[1], boxB[1])\n",
    "    xB = min(boxA[2], boxB[2])\n",
    "    yB = min(boxA[3], boxB[3])\n",
    "    # intersection area\n",
    "    return (xB - xA + 1) * (yB - yA + 1)\n",
    "\n",
    "\n",
    "def getUnionAreas(boxA, boxB, interArea=None):\n",
    "    area_A = getArea(boxA)\n",
    "    area_B = getArea(boxB)\n",
    "    if interArea is None:\n",
    "        interArea = getIntersectionArea(boxA, boxB)\n",
    "    return float(area_A + area_B - interArea)\n",
    "\n",
    "def createdetfiles(file, detections):\n",
    "    writeline = []\n",
    "    for d in detections:\n",
    "        line = d[0] + ' ' + str(d[2]) + ' ' + str(d[1][0]) + ' ' + str(d[1][1])  + ' ' + str(d[1][2] - d[1][0])  + ' ' + str(d[1][3] - d[1][1]) + '\\n' \n",
    "        #print(line)\n",
    "        writeline.append(line)\n",
    "    f = open(file, 'w+')\n",
    "    f.writelines(writeline)"
   ]
  },
  {
   "cell_type": "markdown",
   "id": "7b232afb",
   "metadata": {},
   "source": [
    "### Ground Truth Files"
   ]
  },
  {
   "cell_type": "code",
   "execution_count": 2,
   "id": "164231ab",
   "metadata": {},
   "outputs": [
    {
     "name": "stdout",
     "output_type": "stream",
     "text": [
      "100\n"
     ]
    }
   ],
   "source": [
    "path = 'DocBank_Samples/data/*.txt'\n",
    "files = glob.glob(path)\n",
    "\n",
    "### Classwise Details\n",
    "for file in files:\n",
    "    f = open(file, 'r')\n",
    "    filename = file.split('/')[-1:][0]\n",
    "    g = open('groundtruth_classwise/' + filename , 'w+')\n",
    "    imgfile = file[:-4] + '_ori.jpg'\n",
    "    img = cv2.imread(imgfile)\n",
    "    height, width, channel = img.shape\n",
    "    lines = []\n",
    "    for line in f:\n",
    "        llist = line.split('\\t')\n",
    "        x0 = int(int(llist[1]) * width / 1000)\n",
    "        y0 = int(int(llist[2]) * height / 1000)\n",
    "        x1 = int(int(llist[3]) * width / 1000)\n",
    "        y1 = int(int(llist[4]) * height / 1000)\n",
    "        label = llist[-1][:-1]\n",
    "        writeline = 'text' + ' ' + str(x0) +  ' ' + str(y0) +  ' ' + str(x1 - x0) +  ' ' + str(y1 - y0) + '\\n'\n",
    "        if 'figure' not in label:\n",
    "            lines.append(writeline)\n",
    "    g.writelines(lines)\n",
    "    f.close()\n",
    "    g.close()\n",
    "    \n",
    "    \n",
    "### Saving Results\n",
    "for i in range(100):\n",
    "    filename = files[i].split('/')[-1:][0]\n",
    "    print(filename)\n",
    "    imgfile = files[i][:-4] + '_ori.jpg'\n",
    "    img = cv2.imread(imgfile)\n",
    "    img = 0 * img\n",
    "    img = ~img\n",
    "    g = open('groundtruth/' + filename , 'r')\n",
    "    for line in g:\n",
    "        llist = line.split(' ')\n",
    "        x0 = int(llist[1])\n",
    "        y0 = int(llist[2])\n",
    "        w = int(llist[3])\n",
    "        h = int(llist[4])\n",
    "        fimg = cv2.rectangle(img, (x0, y0), (x0 + w, y0 + h), (255,0,255), cv2.FILLED)\n",
    "    cv2.imwrite('results/' + filename[:-4] + '.jpg' , fimg)"
   ]
  },
  {
   "cell_type": "code",
   "execution_count": null,
   "id": "e9144ed5",
   "metadata": {},
   "outputs": [],
   "source": [
    "for i in range(100):\n",
    "    filename = files[i].split('/')[-1:][0]\n",
    "    print(filename)\n",
    "    imgfile = files[i]\n",
    "    txtfile = filename[:-4] + '.txt'\n",
    "    img = cv2.imread(imgfile)\n",
    "    #img = 0 * img\n",
    "    #img = ~img\n",
    "    g = open('doctr_detections/' + txtfile , 'r')\n",
    "    for line in g:\n",
    "        llist = line.split(' ')\n",
    "        x0 = int(llist[2])\n",
    "        y0 = int(llist[3])\n",
    "        w = int(llist[4])\n",
    "        h = int(llist[5])\n",
    "        fimg = cv2.rectangle(img, (x0, y0), (x0 + w, y0 + h), (0,255,0), 2)\n",
    "    cv2.imwrite('resultswithdetections/' + filename[:-4] + '.jpg' , fimg)"
   ]
  },
  {
   "cell_type": "code",
   "execution_count": null,
   "id": "246d2a40",
   "metadata": {},
   "outputs": [],
   "source": []
  },
  {
   "cell_type": "markdown",
   "id": "51ae7611",
   "metadata": {},
   "source": [
    "## CAGE Associate"
   ]
  },
  {
   "cell_type": "code",
   "execution_count": null,
   "id": "8e84bfc7",
   "metadata": {},
   "outputs": [],
   "source": [
    "gtpath = '../../docbank_processed/gt_cage_sample100/gt_cage_classwise/*.txt'\n",
    "gtimages = '../../docbank_processed/processed_data/spear_ori_black/'\n",
    "detpath = '../../docbank_processed/txt_outputs/txt3_processed/*.txt'\n",
    "outdetpath = '../../docbank_processed/txt_outputs/txt3_classwise/'\n",
    "gtfiles = glob.glob(gtpath)\n",
    "detfiles = glob.glob(detpath)"
   ]
  },
  {
   "cell_type": "code",
   "execution_count": null,
   "id": "ac6a5853",
   "metadata": {},
   "outputs": [],
   "source": [
    "for i in range(len(gtfiles)):\n",
    "    filename = gtfiles[i].split('/')[-1:][0]\n",
    "    groundtruths = getbboxesfromgtfile(gtfiles[i])\n",
    "    detections = getbboxesfromdettfile(detfiles[i])\n",
    "    gts = groundtruths\n",
    "    #gts = filterbboxesforclass(groundtruths, classname)\n",
    "\n",
    "    for d in detections:\n",
    "        iou_max = 0\n",
    "        for g in gts:\n",
    "            detbox = d[1]\n",
    "            gtbox = g[1]\n",
    "            #print(detbox)\n",
    "            #print(gtbox)\n",
    "            iou_candidate = iou(gtbox, detbox)\n",
    "            #if iou_candidate >= iou_thresh:\n",
    "            if iou_candidate >= iou_max:\n",
    "                iou_max = iou_candidate\n",
    "                d[0] = g[0]\n",
    "    outputfile = outdetpath + filename\n",
    "    createdetfiles(outputfile, detections)"
   ]
  },
  {
   "cell_type": "code",
   "execution_count": null,
   "id": "0ae1cd58",
   "metadata": {},
   "outputs": [],
   "source": []
  },
  {
   "cell_type": "markdown",
   "id": "f079442f",
   "metadata": {},
   "source": [
    "## DocTR Associate"
   ]
  },
  {
   "cell_type": "code",
   "execution_count": null,
   "id": "ebe9986b",
   "metadata": {},
   "outputs": [],
   "source": [
    "gtpath = '../../docbank_processed/gt_cage_sample100/gt_cage_classwise/*.txt'\n",
    "gtimages = '../../docbank_processed/processed_data/spear_ori_black/'\n",
    "detpath = '../../docbank_processed/processed_data/out_txt_8/*.txt'\n",
    "outdetpath = '../../docbank_processed/processed_data/out_txt_8_classwise/'\n",
    "gtfiles = glob.glob(gtpath)\n",
    "detfiles = glob.glob(detpath)\n",
    "\n",
    "for i in range(len(gtfiles)):\n",
    "    filename = gtfiles[i].split('/')[-1:][0]\n",
    "    groundtruths = getbboxesfromgtfile(gtfiles[i])\n",
    "    detections = getbboxesfromdettfile(detfiles[i])\n",
    "    gts = groundtruths\n",
    "    #gts = filterbboxesforclass(groundtruths, classname)\n",
    "\n",
    "    for d in detections:\n",
    "        iou_max = 0\n",
    "        for g in gts:\n",
    "            detbox = d[1]\n",
    "            gtbox = g[1]\n",
    "            #print(detbox)\n",
    "            #print(gtbox)\n",
    "            iou_candidate = iou(gtbox, detbox)\n",
    "            #if iou_candidate >= iou_thresh:\n",
    "            if iou_candidate >= iou_max:\n",
    "                iou_max = iou_candidate\n",
    "                d[0] = g[0]\n",
    "    outputfile = outdetpath + filename\n",
    "    createdetfiles(outputfile, detections)"
   ]
  }
 ],
 "metadata": {
  "kernelspec": {
   "display_name": "Python 3",
   "language": "python",
   "name": "python3"
  },
  "language_info": {
   "codemirror_mode": {
    "name": "ipython",
    "version": 3
   },
   "file_extension": ".py",
   "mimetype": "text/x-python",
   "name": "python",
   "nbconvert_exporter": "python",
   "pygments_lexer": "ipython3",
   "version": "3.8.10 (default, Jun 22 2022, 20:18:18) \n[GCC 9.4.0]"
  },
  "vscode": {
   "interpreter": {
    "hash": "31f2aee4e71d21fbe5cf8b01ff0e069b9275f58929596ceb00d14d90e3e16cd6"
   }
  }
 },
 "nbformat": 4,
 "nbformat_minor": 5
}
