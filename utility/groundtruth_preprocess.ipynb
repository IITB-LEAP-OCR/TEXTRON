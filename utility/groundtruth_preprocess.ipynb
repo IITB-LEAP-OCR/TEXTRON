{
 "cells": [
  {
   "cell_type": "code",
   "execution_count": 1,
   "id": "132643e2",
   "metadata": {},
   "outputs": [],
   "source": [
    "import glob\n",
    "import cv2"
   ]
  },
  {
   "cell_type": "code",
   "execution_count": 2,
   "id": "164231ab",
   "metadata": {},
   "outputs": [
    {
     "name": "stdout",
     "output_type": "stream",
     "text": [
      "100\n"
     ]
    }
   ],
   "source": [
    "imgpath = '/home/venkat/BADRI/processed/docbank_100/images/'\n",
    "txtpath = '/home/venkat/BADRI/processed/docbank_100/txt/*'\n",
    "outputpath = '/home/venkat/BADRI/results/ground_truths_sample100_classwise/'\n",
    "files = glob.glob(txtpath)\n",
    "print(len(files))"
   ]
  },
  {
   "cell_type": "markdown",
   "id": "373d361a",
   "metadata": {},
   "source": [
    "## Preprocess groundtruth annotations "
   ]
  },
  {
   "cell_type": "code",
   "execution_count": 3,
   "id": "9c58f2da",
   "metadata": {},
   "outputs": [
    {
     "name": "stdout",
     "output_type": "stream",
     "text": [
      "/home/venkat/BADRI/processed/docbank_100/images/69.tar_1406.0846.gz_3Potts_9_pro.jpg\n",
      "/home/venkat/BADRI/processed/docbank_100/images/250.tar_1711.00637.gz_CME_PID_v1_2_pro.jpg\n",
      "/home/venkat/BADRI/processed/docbank_100/images/212.tar_1807.09084.gz_pollicott-dimaff-arxiv_66_pro.jpg\n",
      "/home/venkat/BADRI/processed/docbank_100/images/263.tar_1711.06126.gz_draft_slender_phoretic-12nov17_3_pro.jpg\n",
      "/home/venkat/BADRI/processed/docbank_100/images/62.tar_1803.02335.gz_Tesi_16_pro.jpg\n",
      "/home/venkat/BADRI/processed/docbank_100/images/12.tar_1701.05337.gz_ms_14_pro.jpg\n",
      "/home/venkat/BADRI/processed/docbank_100/images/152.tar_1509.08018.gz_chaindecodingTCOM_v10_69_pro.jpg\n",
      "/home/venkat/BADRI/processed/docbank_100/images/80.tar_1605.00521.gz_323_3_pro.jpg\n",
      "/home/venkat/BADRI/processed/docbank_100/images/13.tar_1801.05376.gz_main_26_pro.jpg\n",
      "/home/venkat/BADRI/processed/docbank_100/images/138.tar_1706.07989.gz_CoPS3_arXiv_2017_17_pro.jpg\n",
      "/home/venkat/BADRI/processed/docbank_100/images/146.tar_1805.09876.gz_mpbt_biometrics_1_pro.jpg\n",
      "/home/venkat/BADRI/processed/docbank_100/images/139.tar_1410.6666.gz_dft-and-kp-tmdc-pdffigs_2_pro.jpg\n",
      "/home/venkat/BADRI/processed/docbank_100/images/8.tar_1501.04227.gz_tunablefailure_draft_20160624_8_pro.jpg\n",
      "/home/venkat/BADRI/processed/docbank_100/images/63.tar_1504.07006.gz_mayak_arxiv_20141204_7_pro.jpg\n",
      "/home/venkat/BADRI/processed/docbank_100/images/126.tar_1706.03453.gz_soft_graviton_yukawa_scalar_v2_06.10.17_0_pro.jpg\n",
      "/home/venkat/BADRI/processed/docbank_100/images/102.tar_1705.05217.gz_final_report_3_pro.jpg\n",
      "/home/venkat/BADRI/processed/docbank_100/images/11.tar_1701.04715.gz_paper_1_pro.jpg\n",
      "/home/venkat/BADRI/processed/docbank_100/images/107.tar_1606.02202.gz_arxiv-v2-EHX_3_pro.jpg\n",
      "/home/venkat/BADRI/processed/docbank_100/images/7.tar_1801.02983.gz_Article_7_pro.jpg\n",
      "/home/venkat/BADRI/processed/docbank_100/images/94.tar_1506.05555.gz_NNSHMC_SC_3rdRevision_15_pro.jpg\n",
      "/home/venkat/BADRI/processed/docbank_100/images/16.tar_1801.06571.gz_CS_susceptibility_final_6_pro.jpg\n",
      "/home/venkat/BADRI/processed/docbank_100/images/219.tar_1611.03873.gz_Manuscript_0_pro.jpg\n",
      "/home/venkat/BADRI/processed/docbank_100/images/131.tar_1410.2446.gz_root1asg_clean_9_pro.jpg\n",
      "/home/venkat/BADRI/processed/docbank_100/images/55.tar_1802.10418.gz_icml2018_songtao_arXiv_49_pro.jpg\n",
      "/home/venkat/BADRI/processed/docbank_100/images/242.tar_1612.03168.gz_biomimetics_5_pro.jpg\n",
      "/home/venkat/BADRI/processed/docbank_100/images/190.tar_1807.01208.gz_article_2_pro.jpg\n",
      "/home/venkat/BADRI/processed/docbank_100/images/44.tar_1503.06300.gz_dodona_ijhcs_revised_round2_6_pro.jpg\n",
      "/home/venkat/BADRI/processed/docbank_100/images/132.tar_1410.2655.gz_CRBTSM_parizot_final_7_pro.jpg\n",
      "/home/venkat/BADRI/processed/docbank_100/images/247.tar_1710.11035.gz_MTforGSW_2_pro.jpg\n",
      "/home/venkat/BADRI/processed/docbank_100/images/37.tar_1702.07095.gz_paper10_revised4_withbib_15_pro.jpg\n",
      "/home/venkat/BADRI/processed/docbank_100/images/202.tar_1709.03604.gz_bar_quenching_12_pro.jpg\n",
      "/home/venkat/BADRI/processed/docbank_100/images/171.tar_1412.6676.gz_TouchingArxiv_17_pro.jpg\n",
      "/home/venkat/BADRI/processed/docbank_100/images/45.tar_1503.07020.gz_lds_vFinal2_12_pro.jpg\n",
      "/home/venkat/BADRI/processed/docbank_100/images/187.tar_1511.05780.gz_Levy_irregular_sampling_5_pro.jpg\n",
      "/home/venkat/BADRI/processed/docbank_100/images/33.tar_1602.07924.gz_TaS2_arxiv_11_pro.jpg\n",
      "/home/venkat/BADRI/processed/docbank_100/images/143.tar_1805.08652.gz_General_Boundary_Transport_Draft_18_pro.jpg\n",
      "/home/venkat/BADRI/processed/docbank_100/images/7.tar_1601.03015.gz_crs_19_pro.jpg\n",
      "/home/venkat/BADRI/processed/docbank_100/images/89.tar_1407.4134.gz_NMSSM_EWPT_submission_2_26_pro.jpg\n",
      "/home/venkat/BADRI/processed/docbank_100/images/143.tar_1509.03588.gz_CeB6_Review_4_pro.jpg\n",
      "/home/venkat/BADRI/processed/docbank_100/images/209.tar_1807.08272.gz_main_1_pro.jpg\n",
      "/home/venkat/BADRI/processed/docbank_100/images/171.tar_1708.01402.gz_address_sig_13_pro.jpg\n",
      "/home/venkat/BADRI/processed/docbank_100/images/135.tar_1410.4804.gz_mpk_2_pro.jpg\n",
      "/home/venkat/BADRI/processed/docbank_100/images/35.tar_1802.02802.gz_gyurky_NPA7proc_arxiv_3_pro.jpg\n",
      "/home/venkat/BADRI/processed/docbank_100/images/148.tar_1707.02008.gz_ms_9_pro.jpg\n",
      "/home/venkat/BADRI/processed/docbank_100/images/113.tar_1507.06116.gz_fluct_150720_7_pro.jpg\n",
      "/home/venkat/BADRI/processed/docbank_100/images/62.tar_1504.06368.gz_main_1_pro.jpg\n",
      "/home/venkat/BADRI/processed/docbank_100/images/275.tar_1809.08252.gz_PapierFluctuations3_0_pro.jpg\n",
      "/home/venkat/BADRI/processed/docbank_100/images/126.tar_1607.01329.gz_ms_astroph_7_pro.jpg\n",
      "/home/venkat/BADRI/processed/docbank_100/images/175.tar_1511.00117.gz_wcci_papier4_6_pro.jpg\n",
      "/home/venkat/BADRI/processed/docbank_100/images/232.tar_1808.04097.gz_ep_LHC_submit_22_pro.jpg\n",
      "/home/venkat/BADRI/processed/docbank_100/images/33.tar_1403.4005.gz_archive_v2_4_pro.jpg\n",
      "/home/venkat/BADRI/processed/docbank_100/images/221.tar_1611.05073.gz_VNLM_arxiv_29_pro.jpg\n",
      "/home/venkat/BADRI/processed/docbank_100/images/211.tar_1611.00049.gz_NNLLpaper_14_pro.jpg\n",
      "/home/venkat/BADRI/processed/docbank_100/images/39.tar_1802.04452.gz_ms_18_pro.jpg\n",
      "/home/venkat/BADRI/processed/docbank_100/images/103.tar_1408.2982.gz_banach_4_pro.jpg\n",
      "/home/venkat/BADRI/processed/docbank_100/images/141.tar_1410.7721.gz_arxiv_8_pro.jpg\n",
      "/home/venkat/BADRI/processed/docbank_100/images/62.tar_1405.4919.gz_carpets_15_pro.jpg\n",
      "/home/venkat/BADRI/processed/docbank_100/images/107.tar_1804.07036.gz_Wu-Hu_6_pro.jpg\n",
      "/home/venkat/BADRI/processed/docbank_100/images/230.tar_1611.08510.gz_DPTG_PA_ABM_004_4_pro.jpg\n",
      "/home/venkat/BADRI/processed/docbank_100/images/2.tar_1801.00617.gz_idempotents_arxiv_4_pro.jpg\n",
      "/home/venkat/BADRI/processed/docbank_100/images/189.tar_1708.08822.gz_Diffusion_Anisotropic_ver_2_29_pro.jpg\n",
      "/home/venkat/BADRI/processed/docbank_100/images/65.tar_1803.03564.gz_faddeev271017_2_pro.jpg\n",
      "/home/venkat/BADRI/processed/docbank_100/images/116.tar_1606.06142.gz_news_portal_art_19_normal_7_pro.jpg\n",
      "/home/venkat/BADRI/processed/docbank_100/images/95.tar_1506.05778.gz_NiO=ferro3_11_pro.jpg\n",
      "/home/venkat/BADRI/processed/docbank_100/images/279.tar_1712.00102.gz_P51_GUEmCutoffShock_20_pro.jpg\n",
      "/home/venkat/BADRI/processed/docbank_100/images/89.tar_1704.08939.gz_noa_12_pro.jpg\n",
      "/home/venkat/BADRI/processed/docbank_100/images/80.tar_1803.09023.gz_20180323_3_pro.jpg\n",
      "/home/venkat/BADRI/processed/docbank_100/images/71.tar_1803.05570.gz_draft_eta_p_enu_2_pro.jpg\n",
      "/home/venkat/BADRI/processed/docbank_100/images/23.tar_1402.5330.gz_fusion_1_pro.jpg\n",
      "/home/venkat/BADRI/processed/docbank_100/images/106.tar_1705.06909.gz_KGBR5_4_pro.jpg\n",
      "/home/venkat/BADRI/processed/docbank_100/images/135.tar_1805.05760.gz_cataracts_3_pro.jpg\n",
      "/home/venkat/BADRI/processed/docbank_100/images/272.tar_1809.07187.gz_author_FKThielemann_finb_7_pro.jpg\n",
      "/home/venkat/BADRI/processed/docbank_100/images/10.tar_1701.04170.gz_TPNL_afterglow_evo_8_pro.jpg\n",
      "/home/venkat/BADRI/processed/docbank_100/images/34.tar_1602.08352.gz_LCWS2015_BSM_6_pro.jpg\n",
      "/home/venkat/BADRI/processed/docbank_100/images/185.tar_1708.06832.gz_adaloss_9_pro.jpg\n",
      "/home/venkat/BADRI/processed/docbank_100/images/99.tar_1804.04115.gz_vFINAL_21_pro.jpg\n",
      "/home/venkat/BADRI/processed/docbank_100/images/228.tar_1611.07901.gz_efield_arxiv_3_pro.jpg\n",
      "/home/venkat/BADRI/processed/docbank_100/images/253.tar_1809.00537.gz_main_5_pro.jpg\n",
      "/home/venkat/BADRI/processed/docbank_100/images/8.tar_1501.04311.gz_pippori_27_pro.jpg\n",
      "/home/venkat/BADRI/processed/docbank_100/images/11.tar_1401.6921.gz_rad-lep-II-2_13_pro.jpg\n",
      "/home/venkat/BADRI/processed/docbank_100/images/111.tar_1804.08410.gz_Asymptotic_analysis_5_pro.jpg\n",
      "/home/venkat/BADRI/processed/docbank_100/images/113.tar_1507.06110.gz_DelayedAcceptanceDataSubsampling_11_pro.jpg\n",
      "/home/venkat/BADRI/processed/docbank_100/images/91.tar_1605.05268.gz_Tunnelingtime12_0_pro.jpg\n",
      "/home/venkat/BADRI/processed/docbank_100/images/157.tar_1707.05640.gz_Manuscript_25_pro.jpg\n",
      "/home/venkat/BADRI/processed/docbank_100/images/215.tar_1611.01871.gz_rsv16v1_10_pro.jpg\n",
      "/home/venkat/BADRI/processed/docbank_100/images/40.tar_1503.04529.gz_GaussianLowerBounds_LaplaceBeltrami_hal2_0_pro.jpg\n",
      "/home/venkat/BADRI/processed/docbank_100/images/173.tar_1708.02244.gz_D1D5BPSv2_39_pro.jpg\n"
     ]
    },
    {
     "name": "stdout",
     "output_type": "stream",
     "text": [
      "/home/venkat/BADRI/processed/docbank_100/images/296.tar_1712.06571.gz_G2_MIR_final_25_pro.jpg\n",
      "/home/venkat/BADRI/processed/docbank_100/images/121.tar_1706.01211.gz_main_12_pro.jpg\n",
      "/home/venkat/BADRI/processed/docbank_100/images/100.tar_1705.04261.gz_main_11_pro.jpg\n",
      "/home/venkat/BADRI/processed/docbank_100/images/20.tar_1801.07927.gz_Manuscript_V5_0_pro.jpg\n",
      "/home/venkat/BADRI/processed/docbank_100/images/248.tar_1612.05617.gz_quatmc3_3_pro.jpg\n",
      "/home/venkat/BADRI/processed/docbank_100/images/117.tar_1409.3407.gz_submitted2_2_pro.jpg\n",
      "/home/venkat/BADRI/processed/docbank_100/images/152.tar_1608.03834.gz_fragility_II_05062016_AZ_2_pro.jpg\n",
      "/home/venkat/BADRI/processed/docbank_100/images/98.tar_1705.03369.gz_main_13_pro.jpg\n",
      "/home/venkat/BADRI/processed/docbank_100/images/92.tar_1407.5358.gz_kbsf_12_pro.jpg\n",
      "/home/venkat/BADRI/processed/docbank_100/images/171.tar_1510.07771.gz_manuscript_v1_5_pro.jpg\n",
      "/home/venkat/BADRI/processed/docbank_100/images/246.tar_1808.08720.gz_conll2018_3_pro.jpg\n",
      "/home/venkat/BADRI/processed/docbank_100/images/169.tar_1708.00745.gz_ODT_Soubies_8_pro.jpg\n",
      "/home/venkat/BADRI/processed/docbank_100/images/75.tar_1505.04211.gz_discoPoly_12_pro.jpg\n"
     ]
    }
   ],
   "source": [
    "for file in files:\n",
    "    f = open(file, 'r')\n",
    "    filename = file.split('/')[-1:][0]\n",
    "    g = open(outputpath + filename , 'w+')\n",
    "    imgfile = imgpath + filename[:-4] + '_pro.jpg'\n",
    "    print(imgfile)\n",
    "    img = cv2.imread(imgfile)\n",
    "    height, width, channel = img.shape\n",
    "    lines = []\n",
    "    for line in f:\n",
    "        llist = line.split(' ')\n",
    "        x0 = int(int(llist[1]) * width / 1000)\n",
    "        #print(line)\n",
    "        y0 = int(int(llist[2]) * height / 1000)\n",
    "        x1 = int(int(llist[3]) * width / 1000)\n",
    "        y1 = int(int(llist[4]) * height / 1000)\n",
    "        label = llist[-1][:-1]\n",
    "        writeline = label + ' ' + str(x0) +  ' ' + str(y0) +  ' ' + str(x1 - x0) +  ' ' + str(y1 - y0) + '\\n'\n",
    "        if 'figure' not in label:\n",
    "            lines.append(writeline)\n",
    "    g.writelines(lines)\n",
    "    f.close()\n",
    "    g.close()"
   ]
  },
  {
   "cell_type": "code",
   "execution_count": null,
   "id": "c57a5629",
   "metadata": {},
   "outputs": [],
   "source": []
  }
 ],
 "metadata": {
  "kernelspec": {
   "display_name": "Python 3 (ipykernel)",
   "language": "python",
   "name": "python3"
  },
  "language_info": {
   "codemirror_mode": {
    "name": "ipython",
    "version": 3
   },
   "file_extension": ".py",
   "mimetype": "text/x-python",
   "name": "python",
   "nbconvert_exporter": "python",
   "pygments_lexer": "ipython3",
   "version": "3.8.10"
  }
 },
 "nbformat": 4,
 "nbformat_minor": 5
}
