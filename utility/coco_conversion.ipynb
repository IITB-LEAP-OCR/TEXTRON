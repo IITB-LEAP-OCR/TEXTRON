{
 "cells": [
  {
   "cell_type": "code",
   "execution_count": 1,
   "id": "284dedc6",
   "metadata": {},
   "outputs": [],
   "source": [
    "import os\n",
    "import json\n",
    "import pandas as pd\n",
    "from skimage import io"
   ]
  },
  {
   "cell_type": "code",
   "execution_count": 2,
   "id": "23266123",
   "metadata": {},
   "outputs": [],
   "source": [
    "input_dir = './02_tamil/images/'\n",
    "txt_dir = './02_tamil/doctr/txt/'"
   ]
  },
  {
   "cell_type": "code",
   "execution_count": 3,
   "id": "b0e30481",
   "metadata": {},
   "outputs": [],
   "source": [
    "data = {}\n",
    "images = []\n",
    "\n",
    "category = { \"id\": 1, \"name\": \"text\" }\n",
    "\n",
    "\n",
    "annotations = []\n",
    "value = 1\n",
    "\n",
    "\n",
    "\n",
    "for file in os.listdir(input_dir):\n",
    "    Y = io.imread(input_dir + file)\n",
    "    height, width, _ = Y.shape\n",
    "    id = int(file[6:-4])\n",
    "    \n",
    "    image = { \"id\": id, \"width\": width, \"height\": height, \"file_name\": file }\n",
    "    images.append(image)\n",
    "    \n",
    "    name = file[:len(file) - 4]\n",
    "    df = pd.read_csv(txt_dir+name+'.txt', delimiter=' ',names=[\"token\", \"confidence\",\"x0\", \"y0\", \"w\", \"h\", \"label\"])\n",
    "\n",
    "    for i in range(df.shape[0]):\n",
    "        x0, y0, w, h  = (int(df['x0'][i]), int(df['y0'][i]), int(df['w'][i]), int(df['h'][i]))\n",
    "        \n",
    "        annotation = {\n",
    "            \"id\": value,\n",
    "            \"image_id\": id,\n",
    "            \"category_id\": 1,\n",
    "            \"segmentation\": [],\n",
    "            \"area\": w*h,\n",
    "            \"bbox\": [x0,y0,w,h],\n",
    "            \"iscrowd\": 0\n",
    "        }\n",
    "        annotations.append(annotation)\n",
    "        value += 1\n",
    "    \n",
    "data['images'] = images\n",
    "data['categories'] = category\n",
    "data['annotations'] = annotations"
   ]
  },
  {
   "cell_type": "code",
   "execution_count": 4,
   "id": "4c20e7ec",
   "metadata": {},
   "outputs": [],
   "source": [
    "with open(\"train_labels.json\", \"w\") as outfile:\n",
    "    json.dump(data, outfile)"
   ]
  }
 ],
 "metadata": {
  "kernelspec": {
   "display_name": "venv",
   "language": "python",
   "name": "python3"
  },
  "language_info": {
   "codemirror_mode": {
    "name": "ipython",
    "version": 3
   },
   "file_extension": ".py",
   "mimetype": "text/x-python",
   "name": "python",
   "nbconvert_exporter": "python",
   "pygments_lexer": "ipython3",
   "version": "3.8.10 (default, Jun 22 2022, 20:18:18) \n[GCC 9.4.0]"
  },
  "vscode": {
   "interpreter": {
    "hash": "5368b70afacc6a167ffe0ddc5245741a1e692df649f684fa7bf3f17bbd1380d5"
   }
  }
 },
 "nbformat": 4,
 "nbformat_minor": 5
}
