{
 "cells": [
  {
   "cell_type": "code",
   "execution_count": 7,
   "id": "b5d999f9",
   "metadata": {},
   "outputs": [],
   "source": [
    "import pandas as pd\n",
    "import os\n",
    "from tqdm import tqdm\n",
    "import cv2\n",
    "import shutil"
   ]
  },
  {
   "cell_type": "code",
   "execution_count": 5,
   "id": "4db5e8f7",
   "metadata": {},
   "outputs": [],
   "source": [
    "dir1 = './../../processed/docbank_100/txt/'\n",
    "dir2 = './../../testing_sample/txt/'\n",
    "\n",
    "count = 0\n",
    "for file in os.listdir(dir1):\n",
    "    df = pd.read_csv(dir1 + file, delimiter=' ',\n",
    "                     names=[\"token\", \"x0\", \"y0\", \"x1\", \"y1\", \"R\", \"G\", \"B\", \"font name\", \"label\"])\n",
    "    df1 = df[df['label']=='title'].reset_index(drop=True)\n",
    "    if(df1.shape[0] >0):\n",
    "        df.to_csv(dir2 + file, sep = ' ', index=False, header=False)"
   ]
  },
  {
   "cell_type": "code",
   "execution_count": 10,
   "id": "4ff07504",
   "metadata": {},
   "outputs": [],
   "source": [
    "val = './../../testing_sample/txt/'\n",
    "val2 = './../../data/00_docbank_100/doctr/txt/'\n",
    "val3 = './../../testing_sample/doctr_txt/'\n",
    "\n",
    "for file in os.listdir(val):\n",
    "    file1 = file[:-4] + '_pro.txt'\n",
    "    shutil.copy(val2+file1, val3+file1)"
   ]
  },
  {
   "cell_type": "code",
   "execution_count": 11,
   "id": "4d95d0fe",
   "metadata": {},
   "outputs": [
    {
     "name": "stderr",
     "output_type": "stream",
     "text": [
      "100%|███████████████████████████████████████████████████████████████████████████████████████████████████████████████████████████████████████████████████████████████████████████████████| 7/7 [00:00<00:00, 27.48it/s]\n"
     ]
    }
   ],
   "source": [
    "input_img_dir = './../../processed/docbank_100/images/'\n",
    "input_txt_dir = './../../testing_sample/txt/'\n",
    "output_ann_dir = './../../testing_sample/txt_final/'\n",
    "\n",
    "dir_list = os.listdir(input_txt_dir)\n",
    "\n",
    "for file in tqdm(dir_list):\n",
    "    name = file[:len(file) - 4]\n",
    "    ori_img1 = cv2.imread(input_img_dir + name + '_pro.jpg')\n",
    "    df = pd.read_csv(input_txt_dir+file, delimiter=' ',\n",
    "                     names=[\"token\", \"x0\", \"y0\", \"x1\", \"y1\", \"R\", \"G\", \"B\", \"font name\", \"label\"])\n",
    "    \n",
    "    df['token'] = \"text\"\n",
    "    height, width, _ = ori_img1.shape\n",
    "    df['x0'] = df['x0'].apply(lambda x : int(x*width/1000))\n",
    "    df['y0'] = df['y0'].apply(lambda x : int(x*height/1000))\n",
    "    df['x1'] = df['x1'].apply(lambda x : int(x*width/1000))\n",
    "    df['y1'] = df['y1'].apply(lambda x : int(x*height/1000))\n",
    "\n",
    "    df.to_csv(output_ann_dir + name + '_pro.txt', sep = ' ', index=False, header=False)"
   ]
  }
 ],
 "metadata": {
  "kernelspec": {
   "display_name": "Python 3 (ipykernel)",
   "language": "python",
   "name": "python3"
  },
  "language_info": {
   "codemirror_mode": {
    "name": "ipython",
    "version": 3
   },
   "file_extension": ".py",
   "mimetype": "text/x-python",
   "name": "python",
   "nbconvert_exporter": "python",
   "pygments_lexer": "ipython3",
   "version": "3.8.10"
  }
 },
 "nbformat": 4,
 "nbformat_minor": 5
}
