{
 "cells": [
  {
   "cell_type": "markdown",
   "id": "63c4dde7",
   "metadata": {},
   "source": [
    "### Imports"
   ]
  },
  {
   "cell_type": "code",
   "execution_count": 11,
   "id": "bf9ed96a",
   "metadata": {},
   "outputs": [],
   "source": [
    "import enum\n",
    "import pandas as pd\n",
    "\n",
    "import os\n",
    "import pickle\n",
    "from skimage import io\n",
    "\n",
    "from spear.labeling import labeling_function, ABSTAIN, continuous_scorer\n",
    "from spear.labeling import preprocessor"
   ]
  },
  {
   "cell_type": "markdown",
   "id": "4fc04469",
   "metadata": {},
   "source": [
    "### Functions"
   ]
  },
  {
   "cell_type": "code",
   "execution_count": null,
   "id": "c757a980",
   "metadata": {},
   "outputs": [],
   "source": []
  },
  {
   "cell_type": "markdown",
   "id": "35ea5f68",
   "metadata": {},
   "source": [
    "### CLASS Declaration"
   ]
  },
  {
   "cell_type": "code",
   "execution_count": 3,
   "id": "b8e26914",
   "metadata": {},
   "outputs": [],
   "source": [
    "class pixelLabels(enum.Enum):\n",
    "    TEXT = 1\n",
    "    NOT_TEXT = 0"
   ]
  },
  {
   "cell_type": "markdown",
   "id": "07b04dc5",
   "metadata": {},
   "source": [
    "### Preprocessors"
   ]
  },
  {
   "cell_type": "code",
   "execution_count": null,
   "id": "18443eff",
   "metadata": {},
   "outputs": [],
   "source": [
    "@preprocessor(name = \"LOWER_CASE\")\n",
    "def convert_to_lower(x):\n",
    "    return x.lower().strip()\n",
    "\n",
    "# lower = convert_to_lower(\"RED\")\n",
    "# print(lower)"
   ]
  },
  {
   "cell_type": "markdown",
   "id": "3836bd96",
   "metadata": {},
   "source": [
    "### Labeling Functions"
   ]
  },
  {
   "cell_type": "markdown",
   "id": "648233b1",
   "metadata": {},
   "source": [
    "##### Stanford NLP LFs\n",
    "\n",
    "1. Indentation (up, down or same)\n",
    "2. Indentation after erasing numbering\n",
    "3. Centering\n",
    "4. Line Break before right margin\n",
    "5. Page Change\n",
    "6. Within top 15% of the page\n",
    "7. Within bottom 15% of the page\n",
    "8. Larger Line spacing\n",
    "9. Justified with spaces in between\n",
    "10. Similar text in similar position\n",
    "11. Emphasis by spaces between characters\n",
    "12. Emphasis by paranthesis"
   ]
  },
  {
   "cell_type": "code",
   "execution_count": null,
   "id": "448bc3bc",
   "metadata": {},
   "outputs": [],
   "source": [
    "@labeling_function(label=pixelLabels.TEXT, name=\"DOCTR\")\n",
    "def DOCTR_LABEL(x):\n",
    "    \n",
    "    \n",
    "@labeling_function(label=pixelLabels.TEXT, name=\"CHULL_PURE\")\n",
    "def CONVEX_HULL_LABEL_PURE(pixel):\n",
    "    if(pixel==True):\n",
    "        return ABSTAIN\n",
    "    else:\n",
    "        return NON_TEXT\n",
    "    \n",
    "@labeling_function(label=pixelLabels.TEXT, name=\"CHULL_NOISE\")\n",
    "def CONVEX_HULL_LABEL_NOISE(pixel):\n",
    "    if(pixel==True):\n",
    "        return TEXT\n",
    "    else:\n",
    "        return NON_TEXT\n",
    "    \n",
    "\n",
    "@labeling_function(label=pixelLabels.TEXT, name=\"SKIMAGE_EDGES\")\n",
    "def EDGES_LABEL(pixel):\n",
    "    if(pixel==True):\n",
    "        return TEXT\n",
    "    else:\n",
    "        return NON_TEXT\n",
    "    \n",
    "    \n",
    "@labeling_function(label=pixelLabels.TEXT, name=\"PILLOW_EDGES\")\n",
    "def PILLOW_EDGES_LABEL(pixel):\n",
    "    if(pixel==True):\n",
    "        return TEXT\n",
    "    else:\n",
    "        return NON_TEXT\n",
    "    \n",
    "    \n",
    "@labeling_function(label=pixelLabels.TEXT, name=\"PILLOW_EDGES\")\n",
    "def PILLOW_EDGES_LABEL(pixel):\n",
    "    if(pixel==True):\n",
    "        return TEXT\n",
    "    else:\n",
    "        return NON_TEXT"
   ]
  },
  {
   "cell_type": "code",
   "execution_count": null,
   "id": "f3b570ee",
   "metadata": {},
   "outputs": [],
   "source": [
    "@labeling_function(label=pixelLabels.PIXEL,name=\"CHECK_PIXEL_LABELING\")\n",
    "def PIXEL_LABEL(x):\n",
    "    '''A sample labeling function which predicts red when x is \"red\"\n",
    "    label=1 argument in decorator indicates that this lf is corresponding to class red'''\n",
    "    if(x == \"red\"):\n",
    "        return sampleLabels.red\n",
    "    else:\n",
    "        return ABSTAIN\n",
    "    \n",
    "@continuous_scorer(name=\"INVERSE  SCORER\")\n",
    "def continious(x):\n",
    "    if x<1:\n",
    "        return x\n",
    "    else:\n",
    "        return 1/x\n",
    "\n",
    "label, _ = sample_labeling(\"red\")\n",
    "print(label)"
   ]
  },
  {
   "cell_type": "markdown",
   "id": "ab389773",
   "metadata": {},
   "source": [
    "### Read Data"
   ]
  },
  {
   "cell_type": "code",
   "execution_count": 18,
   "id": "e3559c13",
   "metadata": {},
   "outputs": [],
   "source": [
    "input_dir = './data/images/'\n",
    "results_dir = './data/results/img_processing'\n",
    "X = []\n",
    "\n",
    "images = []\n",
    "\n",
    "\n",
    "for img_file in os.listdir(input_dir):\n",
    "    image = io.imread(input_dir + img_file)\n",
    "    X.append(image)\n",
    "    images.append(img_file)"
   ]
  },
  {
   "cell_type": "markdown",
   "id": "7e119903",
   "metadata": {},
   "source": [
    "### Fetch Information"
   ]
  },
  {
   "cell_type": "code",
   "execution_count": 19,
   "id": "9e35880f",
   "metadata": {},
   "outputs": [],
   "source": [
    "# with open(results_dir + 'doctr/dimensions.pkl', 'rb') as f:\n",
    "#     doctr = pickle.load(f)\n",
    "    \n",
    "with open(results_dir + 'img_processing/convex_hull_results.pkl', 'rb') as f:\n",
    "    chull = pickle.load(f)\n",
    "    \n",
    "with open(results_dir + 'img_processing/edges_results.pkl', 'rb') as f:\n",
    "    edges = pickle.load(f)\n",
    "    \n",
    "with open(results_dir + 'img_processing/pillow_edges_results.pkl', 'rb') as f:\n",
    "    edges = pickle.load(f)"
   ]
  },
  {
   "cell_type": "code",
   "execution_count": 20,
   "id": "4b326a1e",
   "metadata": {},
   "outputs": [
    {
     "data": {
      "text/plain": [
       "{'docbank_test_page-0017.jpg': array([[False, False, False, ..., False, False, False],\n",
       "        [False, False, False, ..., False, False, False],\n",
       "        [False, False, False, ..., False, False, False],\n",
       "        ...,\n",
       "        [False, False, False, ..., False, False, False],\n",
       "        [False, False, False, ..., False, False, False],\n",
       "        [False, False, False, ..., False, False, False]]),\n",
       " 'docbank_test_page-0005.jpg': array([[False, False, False, ..., False, False, False],\n",
       "        [False, False, False, ..., False, False, False],\n",
       "        [False, False, False, ..., False, False, False],\n",
       "        ...,\n",
       "        [False, False, False, ..., False, False, False],\n",
       "        [False, False, False, ..., False, False, False],\n",
       "        [False, False, False, ..., False, False, False]]),\n",
       " 'docbank_test_page-0018.jpg': array([[False, False, False, ..., False, False, False],\n",
       "        [False, False, False, ..., False, False, False],\n",
       "        [False, False, False, ..., False, False, False],\n",
       "        ...,\n",
       "        [False, False, False, ..., False, False, False],\n",
       "        [False, False, False, ..., False, False, False],\n",
       "        [False, False, False, ..., False, False, False]]),\n",
       " 'docbank_test_page-0013.jpg': array([[False, False, False, ..., False, False, False],\n",
       "        [False, False, False, ..., False, False, False],\n",
       "        [False, False, False, ..., False, False, False],\n",
       "        ...,\n",
       "        [False, False, False, ..., False, False, False],\n",
       "        [False, False, False, ..., False, False, False],\n",
       "        [False, False, False, ..., False, False, False]]),\n",
       " 'docbank_test_page-0001.jpg': array([[False, False, False, ..., False, False, False],\n",
       "        [False, False, False, ..., False, False, False],\n",
       "        [False, False, False, ..., False, False, False],\n",
       "        ...,\n",
       "        [False, False, False, ..., False, False, False],\n",
       "        [False, False, False, ..., False, False, False],\n",
       "        [False, False, False, ..., False, False, False]]),\n",
       " 'docbank_test_page-0012.jpg': array([[False, False, False, ..., False, False, False],\n",
       "        [False, False, False, ..., False, False, False],\n",
       "        [False, False, False, ..., False, False, False],\n",
       "        ...,\n",
       "        [False, False, False, ..., False, False, False],\n",
       "        [False, False, False, ..., False, False, False],\n",
       "        [False, False, False, ..., False, False, False]]),\n",
       " 'docbank_test_page-0011.jpg': array([[False, False, False, ..., False, False, False],\n",
       "        [False, False, False, ..., False, False, False],\n",
       "        [False, False, False, ..., False, False, False],\n",
       "        ...,\n",
       "        [False, False, False, ..., False, False, False],\n",
       "        [False, False, False, ..., False, False, False],\n",
       "        [False, False, False, ..., False, False, False]]),\n",
       " 'docbank_test_page-0014.jpg': array([[False, False, False, ..., False, False, False],\n",
       "        [False, False, False, ..., False, False, False],\n",
       "        [False, False, False, ..., False, False, False],\n",
       "        ...,\n",
       "        [False, False, False, ..., False, False, False],\n",
       "        [False, False, False, ..., False, False, False],\n",
       "        [False, False, False, ..., False, False, False]]),\n",
       " 'docbank_test_page-0003.jpg': array([[False, False, False, ..., False, False, False],\n",
       "        [False, False, False, ..., False, False, False],\n",
       "        [False, False, False, ..., False, False, False],\n",
       "        ...,\n",
       "        [False, False, False, ..., False, False, False],\n",
       "        [False, False, False, ..., False, False, False],\n",
       "        [False, False, False, ..., False, False, False]]),\n",
       " 'docbank_test_page-0010.jpg': array([[False, False, False, ..., False, False, False],\n",
       "        [False, False, False, ..., False, False, False],\n",
       "        [False, False, False, ..., False, False, False],\n",
       "        ...,\n",
       "        [False, False, False, ..., False, False, False],\n",
       "        [False, False, False, ..., False, False, False],\n",
       "        [False, False, False, ..., False, False, False]]),\n",
       " 'docbank_test_page-0009.jpg': array([[False, False, False, ..., False, False, False],\n",
       "        [False, False, False, ..., False, False, False],\n",
       "        [False, False, False, ..., False, False, False],\n",
       "        ...,\n",
       "        [False, False, False, ..., False, False, False],\n",
       "        [False, False, False, ..., False, False, False],\n",
       "        [False, False, False, ..., False, False, False]]),\n",
       " 'docbank_test_page-0004.jpg': array([[False, False, False, ..., False, False, False],\n",
       "        [False, False, False, ..., False, False, False],\n",
       "        [False, False, False, ..., False, False, False],\n",
       "        ...,\n",
       "        [False, False, False, ..., False, False, False],\n",
       "        [False, False, False, ..., False, False, False],\n",
       "        [False, False, False, ..., False, False, False]]),\n",
       " 'docbank_test_page-0007.jpg': array([[False, False, False, ..., False, False, False],\n",
       "        [False, False, False, ..., False, False, False],\n",
       "        [False, False, False, ..., False, False, False],\n",
       "        ...,\n",
       "        [False, False, False, ..., False, False, False],\n",
       "        [False, False, False, ..., False, False, False],\n",
       "        [False, False, False, ..., False, False, False]]),\n",
       " 'docbank_test_page-0008.jpg': array([[False, False, False, ..., False, False, False],\n",
       "        [False, False, False, ..., False, False, False],\n",
       "        [False, False, False, ..., False, False, False],\n",
       "        ...,\n",
       "        [False, False, False, ..., False, False, False],\n",
       "        [False, False, False, ..., False, False, False],\n",
       "        [False, False, False, ..., False, False, False]]),\n",
       " 'docbank_test_page-0019.jpg': array([[False, False, False, ..., False, False, False],\n",
       "        [False, False, False, ..., False, False, False],\n",
       "        [False, False, False, ..., False, False, False],\n",
       "        ...,\n",
       "        [False, False, False, ..., False, False, False],\n",
       "        [False, False, False, ..., False, False, False],\n",
       "        [False, False, False, ..., False, False, False]]),\n",
       " 'docbank_test_page-0002.jpg': array([[False, False, False, ..., False, False, False],\n",
       "        [False, False, False, ..., False, False, False],\n",
       "        [False, False, False, ..., False, False, False],\n",
       "        ...,\n",
       "        [False, False, False, ..., False, False, False],\n",
       "        [False, False, False, ..., False, False, False],\n",
       "        [False, False, False, ..., False, False, False]]),\n",
       " 'docbank_test_page-0006.jpg': array([[False, False, False, ..., False, False, False],\n",
       "        [False, False, False, ..., False, False, False],\n",
       "        [False, False, False, ..., False, False, False],\n",
       "        ...,\n",
       "        [False, False, False, ..., False, False, False],\n",
       "        [False, False, False, ..., False, False, False],\n",
       "        [False, False, False, ..., False, False, False]]),\n",
       " 'docbank_test_page-0016.jpg': array([[False, False, False, ..., False, False, False],\n",
       "        [False, False, False, ..., False, False, False],\n",
       "        [False, False, False, ..., False, False, False],\n",
       "        ...,\n",
       "        [False, False, False, ..., False, False, False],\n",
       "        [False, False, False, ..., False, False, False],\n",
       "        [False, False, False, ..., False, False, False]]),\n",
       " 'docbank_test_page-0015.jpg': array([[False, False, False, ..., False, False, False],\n",
       "        [False, False, False, ..., False, False, False],\n",
       "        [False, False, False, ..., False, False, False],\n",
       "        ...,\n",
       "        [False, False, False, ..., False, False, False],\n",
       "        [False, False, False, ..., False, False, False],\n",
       "        [False, False, False, ..., False, False, False]])}"
      ]
     },
     "execution_count": 20,
     "metadata": {},
     "output_type": "execute_result"
    }
   ],
   "source": [
    "chull"
   ]
  },
  {
   "cell_type": "markdown",
   "id": "fc382991",
   "metadata": {},
   "source": [
    "### LFSET"
   ]
  },
  {
   "cell_type": "code",
   "execution_count": 6,
   "id": "8ce8da14",
   "metadata": {},
   "outputs": [],
   "source": [
    "from spear.labeling import LFSet"
   ]
  },
  {
   "cell_type": "code",
   "execution_count": null,
   "id": "1e1a3f59",
   "metadata": {},
   "outputs": [],
   "source": [
    "LFS = [PIXEL_LABEL,\n",
    "    LF2,\n",
    "    LF3,\n",
    "    LF4\n",
    "      ]\n",
    "\n",
    "rules = LFSet(\"DETECTION_LF\")\n",
    "rules.add_lf_list(LFS)"
   ]
  },
  {
   "cell_type": "code",
   "execution_count": null,
   "id": "71787881",
   "metadata": {},
   "outputs": [],
   "source": []
  },
  {
   "cell_type": "code",
   "execution_count": null,
   "id": "1eb35e85",
   "metadata": {},
   "outputs": [],
   "source": [
    "from spear.labeling import PreLabels\n",
    "\n",
    "R = np.zeros((X.shape[0],len(rules.get_lfs())))\n",
    "\n",
    "sms_noisy_labels = PreLabels(name=\"sms\",\n",
    "                               data=X,\n",
    "                               data_feats = X_feats,\n",
    "                               gold_labels=Y,\n",
    "                               rules=rules,\n",
    "                               labels_enum=ClassLabels,\n",
    "                               num_classes=2)\n",
    "L,S = sms_noisy_labels.get_labels()"
   ]
  },
  {
   "cell_type": "code",
   "execution_count": null,
   "id": "196db2c7",
   "metadata": {},
   "outputs": [],
   "source": [
    "from spear.labeling import LFAnalysis\n",
    "\n",
    "analyse = sms_noisy_labels.analyse_lfs(plot=True)\n",
    "\n",
    "result = analyse.head(16)\n",
    "display(result)"
   ]
  }
 ],
 "metadata": {
  "kernelspec": {
   "display_name": "Python 3 (ipykernel)",
   "language": "python",
   "name": "python3"
  },
  "language_info": {
   "codemirror_mode": {
    "name": "ipython",
    "version": 3
   },
   "file_extension": ".py",
   "mimetype": "text/x-python",
   "name": "python",
   "nbconvert_exporter": "python",
   "pygments_lexer": "ipython3",
   "version": "3.8.10"
  }
 },
 "nbformat": 4,
 "nbformat_minor": 5
}
