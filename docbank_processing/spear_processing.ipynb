{
 "cells": [
  {
   "cell_type": "markdown",
   "id": "a3342dbb",
   "metadata": {},
   "source": [
    "### Imports"
   ]
  },
  {
   "cell_type": "code",
   "execution_count": 34,
   "id": "e520afb4",
   "metadata": {},
   "outputs": [],
   "source": [
    "import cv2\n",
    "import os\n",
    "\n",
    "from skimage import io, color\n",
    "from skimage.filters import threshold_otsu"
   ]
  },
  {
   "cell_type": "code",
   "execution_count": 35,
   "id": "d4e73ec3",
   "metadata": {},
   "outputs": [],
   "source": [
    "def process_image(image):\n",
    "    image = color.rgb2gray(image) \n",
    "    thresh = threshold_otsu(image)\n",
    "    image = image > thresh\n",
    "    return image"
   ]
  },
  {
   "cell_type": "code",
   "execution_count": 36,
   "id": "aec981be",
   "metadata": {},
   "outputs": [],
   "source": [
    "input_dir1  = './../../docbank_processed/processed_data/ori_black/'\n",
    "input_dir2  = './../../docbank_processed/processed_data/ann/'\n",
    "output_dir1 = './../../docbank_processed/processed_data/spear_ori_black/'\n",
    "output_dir2 = './../../docbank_processed/processed_data/spear_ann/'\n",
    "\n",
    "dir_list = os.listdir(input_dir2)"
   ]
  },
  {
   "cell_type": "code",
   "execution_count": 37,
   "id": "9e710a14",
   "metadata": {},
   "outputs": [
    {
     "name": "stderr",
     "output_type": "stream",
     "text": [
      "/tmp/ipykernel_3150819/2805992030.py:10: UserWarning: ./../../docbank_processed/processed_data/spear_ori_black/148.tar_1707.02008.gz_ms_9_ori_pro.jpg is a low contrast image\n",
      "  io.imsave(output_dir1 + name + 'ori_pro.jpg', pro_img)\n"
     ]
    }
   ],
   "source": [
    "for img in dir_list:\n",
    "    img1 = io.imread(input_dir2 + img)\n",
    "    x,y,_ = img1.shape\n",
    "\n",
    "    name = img[:len(img) - 11]\n",
    "\n",
    "    img2 = io.imread(input_dir1 + name + 'ori_pro.jpg')\n",
    "    pro_img = cv2.resize(img2, (x,y))\n",
    "#     pro_img = process_image(pro_img)\n",
    "    io.imsave(output_dir1 + name + 'ori_pro.jpg', pro_img)\n",
    "#     img1 = process_image(img1)\n",
    "    io.imsave(output_dir2 + img, img1)"
   ]
  },
  {
   "cell_type": "code",
   "execution_count": null,
   "id": "6490d412",
   "metadata": {},
   "outputs": [],
   "source": []
  }
 ],
 "metadata": {
  "kernelspec": {
   "display_name": "venv",
   "language": "python",
   "name": "python3"
  },
  "language_info": {
   "codemirror_mode": {
    "name": "ipython",
    "version": 3
   },
   "file_extension": ".py",
   "mimetype": "text/x-python",
   "name": "python",
   "nbconvert_exporter": "python",
   "pygments_lexer": "ipython3",
   "version": "3.8.10 (default, Jun 22 2022, 20:18:18) \n[GCC 9.4.0]"
  },
  "vscode": {
   "interpreter": {
    "hash": "5368b70afacc6a167ffe0ddc5245741a1e692df649f684fa7bf3f17bbd1380d5"
   }
  }
 },
 "nbformat": 4,
 "nbformat_minor": 5
}
