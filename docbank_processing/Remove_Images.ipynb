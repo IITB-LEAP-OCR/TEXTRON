{
 "cells": [
  {
   "cell_type": "markdown",
   "id": "d8030f07",
   "metadata": {},
   "source": [
    "### Imports"
   ]
  },
  {
   "cell_type": "code",
   "execution_count": 1,
   "id": "fd460f53",
   "metadata": {},
   "outputs": [],
   "source": [
    "import cv2\n",
    "import os\n",
    "import pandas as pd\n",
    "from tqdm import tqdm"
   ]
  },
  {
   "cell_type": "markdown",
   "id": "4a569d48",
   "metadata": {},
   "source": [
    "### Directory Information"
   ]
  },
  {
   "cell_type": "code",
   "execution_count": 2,
   "id": "9d1161af",
   "metadata": {},
   "outputs": [],
   "source": [
    "input_dir   = './../../dataset/original/txt/'\n",
    "ori_img_dir = './../../dataset/original/images/'\n",
    "output_dir  = './../../dataset/processed/images/' \n",
    "\n",
    "\n",
    "ann_img_dir    = './../../dataset/original/ann/'\n",
    "ann_output_dir = './../../dataset/processed/ann/' \n",
    "txt_output_dir = './../../dataset/processed/txt/'"
   ]
  },
  {
   "cell_type": "markdown",
   "id": "8d67cfd2",
   "metadata": {},
   "source": [
    "### Removing Image Information"
   ]
  },
  {
   "cell_type": "code",
   "execution_count": null,
   "id": "07fbab10",
   "metadata": {},
   "outputs": [],
   "source": [
    "dir_list = os.listdir(input_dir)\n",
    "results = {}\n",
    "images = []\n",
    "\n",
    "for file in tqdm(dir_list):\n",
    "    name = file[:len(file) - 4]\n",
    "    value = output_dir + name + '_ori_pro.jpg'\n",
    "    if not os.path.exists(value):\n",
    "        ori_img = cv2.imread(ori_img_dir + name + '_ori.jpg')\n",
    "        try:\n",
    "            df = pd.read_csv(input_dir+file, delimiter='\\t', \n",
    "                    names=[\"token\", \"x0\", \"y0\", \"x1\", \"y1\", \"R\", \"G\", \"B\", \"font name\", \"label\"])\n",
    "            df = df[df['label']=='figure'].reset_index()\n",
    "\n",
    "            height, width, _ = ori_img.shape\n",
    "            for i in range(df.shape[0]):\n",
    "                x0, y0, x1, y1  = (df['x0'][i], df['y0'][i], df['x1'][i], df['y1'][i])\n",
    "                x0, y0, x1, y1 = (int(x0*width/1000), int(y0*height/1000), int(x1*width/1000), int(y1*height/1000))\n",
    "                cv2.rectangle(ori_img, (x0, y0), (x1, y1), (255, 255, 255), cv2.FILLED)\n",
    "\n",
    "            cv2.imwrite(value, ori_img)\n",
    "        except:\n",
    "            continue"
   ]
  },
  {
   "cell_type": "markdown",
   "id": "7d4bdabb",
   "metadata": {},
   "source": [
    "### Save updated TXT files"
   ]
  },
  {
   "cell_type": "code",
   "execution_count": 5,
   "id": "5ccf0fe5",
   "metadata": {},
   "outputs": [
    {
     "name": "stderr",
     "output_type": "stream",
     "text": [
      "100%|█████████████████████████████████████████████████████████████████████████████████████████████████████████████████████████████████████████████████████████████████████████████████████████████████████████████████████████████████████| 23399/23399 [06:04<00:00, 64.18it/s]\n"
     ]
    }
   ],
   "source": [
    "dir_list = os.listdir(input_dir)\n",
    "results = {}\n",
    "images = []\n",
    "\n",
    "for file in tqdm(dir_list):\n",
    "    value = txt_output_dir + file\n",
    "    if not os.path.exists(value):\n",
    "        try:\n",
    "            df = pd.read_csv(input_dir+file, delimiter='\\t', \n",
    "                    names=[\"token\", \"x0\", \"y0\", \"x1\", \"y1\", \"R\", \"G\", \"B\", \"font name\", \"label\"])\n",
    "            df = df[df['label']!='figure'].reset_index()\n",
    "            df.to_csv(value, sep='\\t', index=False)\n",
    "        except:\n",
    "            continue"
   ]
  },
  {
   "cell_type": "markdown",
   "id": "92ce80e4",
   "metadata": {},
   "source": [
    "### Remove Image Information from Annotations"
   ]
  },
  {
   "cell_type": "code",
   "execution_count": null,
   "id": "d6482ac8",
   "metadata": {},
   "outputs": [],
   "source": [
    "dir_list = os.listdir(input_dir)\n",
    "results = {}\n",
    "images = []\n",
    "\n",
    "for file in tqdm(dir_list):\n",
    "    name = file[:len(file) - 4]\n",
    "    ann_img = cv2.imread(ann_img_dir + name + '_ann.jpg')\n",
    "    df = pd.read_csv(input_dir+file, delimiter='\\t', \n",
    "                names=[\"token\", \"x0\", \"y0\", \"x1\", \"y1\", \"R\", \"G\", \"B\", \"font name\", \"label\"])\n",
    "    df = df[df['label']=='figure'].reset_index()\n",
    "    \n",
    "    height, width, _ = ann_img.shape\n",
    "    for i in range(df.shape[0]):\n",
    "        x0, y0, x1, y1  = (df['x0'][i], df['y0'][i], df['x1'][i], df['y1'][i])\n",
    "        x0, y0, x1, y1 = (int(x0*width/1000), int(y0*height/1000), int(x1*width/1000), int(y1*height/1000))\n",
    "        cv2.rectangle(ann_img, (x0, y0), (x1, y1), (255, 255, 255), cv2.FILLED)\n",
    "    \n",
    "    cv2.imwrite(ann_output_dir + name + '_ann_pro.jpg', ann_img)"
   ]
  },
  {
   "cell_type": "code",
   "execution_count": null,
   "id": "c44a3226",
   "metadata": {},
   "outputs": [],
   "source": []
  }
 ],
 "metadata": {
  "kernelspec": {
   "display_name": "Python 3 (ipykernel)",
   "language": "python",
   "name": "python3"
  },
  "language_info": {
   "codemirror_mode": {
    "name": "ipython",
    "version": 3
   },
   "file_extension": ".py",
   "mimetype": "text/x-python",
   "name": "python",
   "nbconvert_exporter": "python",
   "pygments_lexer": "ipython3",
   "version": "3.10.6"
  }
 },
 "nbformat": 4,
 "nbformat_minor": 5
}
