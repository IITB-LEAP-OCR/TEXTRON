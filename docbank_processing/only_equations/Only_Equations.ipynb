{
 "cells": [
  {
   "cell_type": "markdown",
   "id": "d8030f07",
   "metadata": {},
   "source": [
    "### Imports"
   ]
  },
  {
   "cell_type": "code",
   "execution_count": 2,
   "id": "fd460f53",
   "metadata": {},
   "outputs": [],
   "source": [
    "import cv2\n",
    "import os\n",
    "import pandas as pd"
   ]
  },
  {
   "cell_type": "markdown",
   "id": "4a569d48",
   "metadata": {},
   "source": [
    "### Directory Information"
   ]
  },
  {
   "cell_type": "code",
   "execution_count": 11,
   "id": "9d1161af",
   "metadata": {},
   "outputs": [],
   "source": [
    "input_dir   = './../../docbank_processed/original_data/txt/'\n",
    "ori_img_dir = './../../docbank_processed/original_data/ori_black/'\n",
    "output_dir  = './../../docbank_processed/processed_data/only_eqn/ori_black/' "
   ]
  },
  {
   "cell_type": "markdown",
   "id": "8d67cfd2",
   "metadata": {},
   "source": [
    "### Removing Image Information"
   ]
  },
  {
   "cell_type": "code",
   "execution_count": 12,
   "id": "07fbab10",
   "metadata": {},
   "outputs": [],
   "source": [
    "dir_list = os.listdir(input_dir)\n",
    "results = {}\n",
    "images = []\n",
    "\n",
    "for file in dir_list:\n",
    "    name = file[:len(file) - 4]\n",
    "    ori_img = cv2.imread(ori_img_dir + name + '_ori.jpg')\n",
    "    df = pd.read_csv(input_dir+file, delimiter='\\t', \n",
    "                names=[\"token\", \"x0\", \"y0\", \"x1\", \"y1\", \"R\", \"G\", \"B\", \"font name\", \"label\"])\n",
    "    df = df[df['label']!='equation'].reset_index()\n",
    "    \n",
    "    height, width, _ = ori_img.shape\n",
    "    for i in range(df.shape[0]):\n",
    "        x0, y0, x1, y1  = (df['x0'][i], df['y0'][i], df['x1'][i], df['y1'][i])\n",
    "        x0, y0, x1, y1 = (int(x0*width/1000), int(y0*height/1000), int(x1*width/1000), int(y1*height/1000))\n",
    "        cv2.rectangle(ori_img, (x0, y0), (x1, y1), (255, 255, 255), cv2.FILLED)\n",
    "    \n",
    "    cv2.imwrite(output_dir + name + '_ori_pro.jpg', ori_img)"
   ]
  },
  {
   "cell_type": "markdown",
   "id": "92ce80e4",
   "metadata": {},
   "source": [
    "### Remove Image Information from Annotations"
   ]
  },
  {
   "cell_type": "code",
   "execution_count": 13,
   "id": "16b81d01",
   "metadata": {},
   "outputs": [],
   "source": [
    "input_dir   = './../../docbank_processed/original_data/txt/'\n",
    "ann_img_dir = './../../docbank_processed/original_data/ann/'\n",
    "output_dir  = './../../docbank_processed/processed_data/only_eqn/ann/' "
   ]
  },
  {
   "cell_type": "code",
   "execution_count": 14,
   "id": "d6482ac8",
   "metadata": {},
   "outputs": [],
   "source": [
    "dir_list = os.listdir(input_dir)\n",
    "results = {}\n",
    "images = []\n",
    "\n",
    "for file in dir_list:\n",
    "    name = file[:len(file) - 4]\n",
    "    ann_img = cv2.imread(ann_img_dir + name + '_ann.jpg')\n",
    "    df = pd.read_csv(input_dir+file, delimiter='\\t', \n",
    "                names=[\"token\", \"x0\", \"y0\", \"x1\", \"y1\", \"R\", \"G\", \"B\", \"font name\", \"label\"])\n",
    "    df = df[df['label']!='equation'].reset_index()\n",
    "    \n",
    "    height, width, _ = ann_img.shape\n",
    "    for i in range(df.shape[0]):\n",
    "        x0, y0, x1, y1  = (df['x0'][i], df['y0'][i], df['x1'][i], df['y1'][i])\n",
    "        x0, y0, x1, y1 = (int(x0*width/1000), int(y0*height/1000), int(x1*width/1000), int(y1*height/1000))\n",
    "        cv2.rectangle(ann_img, (x0, y0), (x1, y1), (255, 255, 255), cv2.FILLED)\n",
    "    \n",
    "    cv2.imwrite(output_dir + name + '_ann_pro.jpg', ann_img)"
   ]
  },
  {
   "cell_type": "markdown",
   "id": "da785ce8",
   "metadata": {},
   "source": [
    "### Only Equation Information"
   ]
  },
  {
   "cell_type": "code",
   "execution_count": 1,
   "id": "6edcc295",
   "metadata": {},
   "outputs": [],
   "source": [
    "input_dir   = './../../docbank_processed/original_data/txt/'\n",
    "ann_img_dir = './../../docbank_processed/original_data/ann/'\n",
    "output_dir  = './../../docbank_processed/processed_data/only_eqn/txt/' "
   ]
  },
  {
   "cell_type": "code",
   "execution_count": 4,
   "id": "90bcb878",
   "metadata": {},
   "outputs": [],
   "source": [
    "dir_list = os.listdir(input_dir)\n",
    "results = {}\n",
    "images = []\n",
    "\n",
    "for file in dir_list:\n",
    "    name = file[:len(file) - 4]\n",
    "    ann_img = cv2.imread(ann_img_dir + name + '_ann.jpg')\n",
    "    df = pd.read_csv(input_dir+file, delimiter='\\t', \n",
    "                names=[\"token\", \"x0\", \"y0\", \"x1\", \"y1\", \"R\", \"G\", \"B\", \"font name\", \"label\"])\n",
    "    df = df[df['label']=='equation'].reset_index()\n",
    "    df.to_csv(output_dir + file,sep='\\t',index=False)"
   ]
  },
  {
   "cell_type": "markdown",
   "id": "1893758e",
   "metadata": {},
   "source": [
    "### Removing Other Files with no equations"
   ]
  },
  {
   "cell_type": "code",
   "execution_count": null,
   "id": "cbc00f64",
   "metadata": {},
   "outputs": [],
   "source": [
    "input_dir   = './../../../docbank_processed/processed_data/only_eqn/ori_txt/'\n",
    "ori_txt_dir = './../../../docbank_processed/processed_data/only_eqn/ori_txt/'\n",
    "parent = './../../../docbank_processed/processed_data/only_eqn/'"
   ]
  },
  {
   "cell_type": "code",
   "execution_count": null,
   "id": "36486706",
   "metadata": {},
   "outputs": [],
   "source": [
    "dir_list = os.listdir(input_dir)\n",
    "\n",
    "for dir1 in os.listdir(parent):\n",
    "    for file2 in os.listdir(parent+dir1):\n",
    "        found = False\n",
    "        for file in os.listdir(ori_txt_dir):\n",
    "            name = file[:len(file) - 4]\n",
    "            if(name in file2):\n",
    "                found = True\n",
    "                break\n",
    "        if(found==False):\n",
    "            os.remove(parent+dir1+'/'+file2)"
   ]
  }
 ],
 "metadata": {
  "kernelspec": {
   "display_name": "Python 3 (ipykernel)",
   "language": "python",
   "name": "python3"
  },
  "language_info": {
   "codemirror_mode": {
    "name": "ipython",
    "version": 3
   },
   "file_extension": ".py",
   "mimetype": "text/x-python",
   "name": "python",
   "nbconvert_exporter": "python",
   "pygments_lexer": "ipython3",
   "version": "3.8.10"
  }
 },
 "nbformat": 4,
 "nbformat_minor": 5
}
