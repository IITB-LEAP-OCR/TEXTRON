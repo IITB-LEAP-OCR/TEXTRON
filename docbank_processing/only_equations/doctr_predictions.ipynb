{
 "cells": [
  {
   "cell_type": "markdown",
   "id": "c70a8400",
   "metadata": {},
   "source": [
    "### Imports"
   ]
  },
  {
   "cell_type": "code",
   "execution_count": 1,
   "id": "7737ca63",
   "metadata": {},
   "outputs": [],
   "source": [
    "import os\n",
    "import pickle\n",
    "\n",
    "from skimage import io\n",
    "import pandas as pd\n",
    "import cv2\n",
    "\n",
    "from doctr.io import DocumentFile\n",
    "from doctr.models import ocr_predictor"
   ]
  },
  {
   "cell_type": "markdown",
   "id": "f8e76233",
   "metadata": {},
   "source": [
    "### Model Loading"
   ]
  },
  {
   "cell_type": "code",
   "execution_count": 2,
   "id": "546ad55f",
   "metadata": {},
   "outputs": [
    {
     "name": "stderr",
     "output_type": "stream",
     "text": [
      "/home/venkat/BADRI/venv/lib/python3.8/site-packages/torchvision/models/_utils.py:135: UserWarning: Using 'weights' as positional parameter(s) is deprecated since 0.13 and may be removed in the future. Please use keyword parameter(s) instead.\n",
      "  warnings.warn(\n",
      "/home/venkat/BADRI/venv/lib/python3.8/site-packages/torchvision/models/_utils.py:223: UserWarning: Arguments other than a weight enum or `None` for 'weights' are deprecated since 0.13 and may be removed in the future. The current behavior is equivalent to passing `weights=None`.\n",
      "  warnings.warn(msg)\n"
     ]
    }
   ],
   "source": [
    "model = ocr_predictor(pretrained=True)"
   ]
  },
  {
   "cell_type": "markdown",
   "id": "931ba4e3",
   "metadata": {},
   "source": [
    "### DocTR Predictions"
   ]
  },
  {
   "cell_type": "code",
   "execution_count": 2,
   "id": "52a0af48",
   "metadata": {},
   "outputs": [],
   "source": [
    "input_dir   = './../../../docbank_processed/only_eqn/spear_ori_black/'\n",
    "output_dir  = './../../../docbank_processed/only_eqn/doctr/'"
   ]
  },
  {
   "cell_type": "code",
   "execution_count": 4,
   "id": "3154d9c8",
   "metadata": {},
   "outputs": [],
   "source": [
    "dir_list = os.listdir(input_dir)\n",
    "results = {}\n",
    "images = []\n",
    "\n",
    "for image in dir_list:\n",
    "    doc = DocumentFile.from_images(input_dir+image)\n",
    "    result = model(doc)\n",
    "    results[image] = result\n",
    "    images.append(image)"
   ]
  },
  {
   "cell_type": "code",
   "execution_count": 5,
   "id": "96f066b4",
   "metadata": {},
   "outputs": [
    {
     "name": "stderr",
     "output_type": "stream",
     "text": [
      "/tmp/ipykernel_260300/1334087442.py:23: UserWarning: ./../../../docbank_processed/only_eqn/doctr/images/44.tar_1503.06300.gz_dodona_ijhcs_revised_round2_6_ori_pro.jpg is a low contrast image\n",
      "  io.imsave(output_dir + 'images/' + image,img)\n",
      "/tmp/ipykernel_260300/1334087442.py:23: UserWarning: ./../../../docbank_processed/only_eqn/doctr/images/7.tar_1801.02983.gz_Article_7_ori_pro.jpg is a low contrast image\n",
      "  io.imsave(output_dir + 'images/' + image,img)\n",
      "/tmp/ipykernel_260300/1334087442.py:23: UserWarning: ./../../../docbank_processed/only_eqn/doctr/images/62.tar_1504.06368.gz_main_1_ori_pro.jpg is a low contrast image\n",
      "  io.imsave(output_dir + 'images/' + image,img)\n",
      "/tmp/ipykernel_260300/1334087442.py:23: UserWarning: ./../../../docbank_processed/only_eqn/doctr/images/33.tar_1403.4005.gz_archive_v2_4_ori_pro.jpg is a low contrast image\n",
      "  io.imsave(output_dir + 'images/' + image,img)\n",
      "/tmp/ipykernel_260300/1334087442.py:23: UserWarning: ./../../../docbank_processed/only_eqn/doctr/images/169.tar_1708.00745.gz_ODT_Soubies_8_ori_pro.jpg is a low contrast image\n",
      "  io.imsave(output_dir + 'images/' + image,img)\n",
      "/tmp/ipykernel_260300/1334087442.py:23: UserWarning: ./../../../docbank_processed/only_eqn/doctr/images/75.tar_1505.04211.gz_discoPoly_12_ori_pro.jpg is a low contrast image\n",
      "  io.imsave(output_dir + 'images/' + image,img)\n",
      "/tmp/ipykernel_260300/1334087442.py:23: UserWarning: ./../../../docbank_processed/only_eqn/doctr/images/209.tar_1807.08272.gz_main_1_ori_pro.jpg is a low contrast image\n",
      "  io.imsave(output_dir + 'images/' + image,img)\n",
      "/tmp/ipykernel_260300/1334087442.py:23: UserWarning: ./../../../docbank_processed/only_eqn/doctr/images/171.tar_1708.01402.gz_address_sig_13_ori_pro.jpg is a low contrast image\n",
      "  io.imsave(output_dir + 'images/' + image,img)\n",
      "/tmp/ipykernel_260300/1334087442.py:23: UserWarning: ./../../../docbank_processed/only_eqn/doctr/images/113.tar_1507.06110.gz_DelayedAcceptanceDataSubsampling_11_ori_pro.jpg is a low contrast image\n",
      "  io.imsave(output_dir + 'images/' + image,img)\n",
      "/tmp/ipykernel_260300/1334087442.py:23: UserWarning: ./../../../docbank_processed/only_eqn/doctr/images/98.tar_1705.03369.gz_main_13_ori_pro.jpg is a low contrast image\n",
      "  io.imsave(output_dir + 'images/' + image,img)\n",
      "/tmp/ipykernel_260300/1334087442.py:23: UserWarning: ./../../../docbank_processed/only_eqn/doctr/images/152.tar_1608.03834.gz_fragility_II_05062016_AZ_2_ori_pro.jpg is a low contrast image\n",
      "  io.imsave(output_dir + 'images/' + image,img)\n",
      "/tmp/ipykernel_260300/1334087442.py:23: UserWarning: ./../../../docbank_processed/only_eqn/doctr/images/190.tar_1807.01208.gz_article_2_ori_pro.jpg is a low contrast image\n",
      "  io.imsave(output_dir + 'images/' + image,img)\n",
      "/tmp/ipykernel_260300/1334087442.py:23: UserWarning: ./../../../docbank_processed/only_eqn/doctr/images/171.tar_1510.07771.gz_manuscript_v1_5_ori_pro.jpg is a low contrast image\n",
      "  io.imsave(output_dir + 'images/' + image,img)\n",
      "/tmp/ipykernel_260300/1334087442.py:23: UserWarning: ./../../../docbank_processed/only_eqn/doctr/images/71.tar_1803.05570.gz_draft_eta_p_enu_2_ori_pro.jpg is a low contrast image\n",
      "  io.imsave(output_dir + 'images/' + image,img)\n",
      "/tmp/ipykernel_260300/1334087442.py:23: UserWarning: ./../../../docbank_processed/only_eqn/doctr/images/131.tar_1410.2446.gz_root1asg_clean_9_ori_pro.jpg is a low contrast image\n",
      "  io.imsave(output_dir + 'images/' + image,img)\n",
      "/tmp/ipykernel_260300/1334087442.py:23: UserWarning: ./../../../docbank_processed/only_eqn/doctr/images/246.tar_1808.08720.gz_conll2018_3_ori_pro.jpg is a low contrast image\n",
      "  io.imsave(output_dir + 'images/' + image,img)\n",
      "/tmp/ipykernel_260300/1334087442.py:23: UserWarning: ./../../../docbank_processed/only_eqn/doctr/images/117.tar_1409.3407.gz_submitted2_2_ori_pro.jpg is a low contrast image\n",
      "  io.imsave(output_dir + 'images/' + image,img)\n",
      "/tmp/ipykernel_260300/1334087442.py:23: UserWarning: ./../../../docbank_processed/only_eqn/doctr/images/141.tar_1410.7721.gz_arxiv_8_ori_pro.jpg is a low contrast image\n",
      "  io.imsave(output_dir + 'images/' + image,img)\n",
      "/tmp/ipykernel_260300/1334087442.py:23: UserWarning: ./../../../docbank_processed/only_eqn/doctr/images/248.tar_1612.05617.gz_quatmc3_3_ori_pro.jpg is a low contrast image\n",
      "  io.imsave(output_dir + 'images/' + image,img)\n",
      "/tmp/ipykernel_260300/1334087442.py:23: UserWarning: ./../../../docbank_processed/only_eqn/doctr/images/135.tar_1410.4804.gz_mpk_2_ori_pro.jpg is a low contrast image\n",
      "  io.imsave(output_dir + 'images/' + image,img)\n",
      "/tmp/ipykernel_260300/1334087442.py:23: UserWarning: ./../../../docbank_processed/only_eqn/doctr/images/92.tar_1407.5358.gz_kbsf_12_ori_pro.jpg is a low contrast image\n",
      "  io.imsave(output_dir + 'images/' + image,img)\n",
      "/tmp/ipykernel_260300/1334087442.py:23: UserWarning: ./../../../docbank_processed/only_eqn/doctr/images/228.tar_1611.07901.gz_efield_arxiv_3_ori_pro.jpg is a low contrast image\n",
      "  io.imsave(output_dir + 'images/' + image,img)\n",
      "/tmp/ipykernel_260300/1334087442.py:23: UserWarning: ./../../../docbank_processed/only_eqn/doctr/images/202.tar_1709.03604.gz_bar_quenching_12_ori_pro.jpg is a low contrast image\n",
      "  io.imsave(output_dir + 'images/' + image,img)\n",
      "/tmp/ipykernel_260300/1334087442.py:23: UserWarning: ./../../../docbank_processed/only_eqn/doctr/images/135.tar_1805.05760.gz_cataracts_3_ori_pro.jpg is a low contrast image\n",
      "  io.imsave(output_dir + 'images/' + image,img)\n",
      "/tmp/ipykernel_260300/1334087442.py:23: UserWarning: ./../../../docbank_processed/only_eqn/doctr/images/263.tar_1711.06126.gz_draft_slender_phoretic-12nov17_3_ori_pro.jpg is a low contrast image\n",
      "  io.imsave(output_dir + 'images/' + image,img)\n",
      "/tmp/ipykernel_260300/1334087442.py:23: UserWarning: ./../../../docbank_processed/only_eqn/doctr/images/242.tar_1612.03168.gz_biomimetics_5_ori_pro.jpg is a low contrast image\n",
      "  io.imsave(output_dir + 'images/' + image,img)\n",
      "/tmp/ipykernel_260300/1334087442.py:23: UserWarning: ./../../../docbank_processed/only_eqn/doctr/images/16.tar_1801.06571.gz_CS_susceptibility_final_6_ori_pro.jpg is a low contrast image\n",
      "  io.imsave(output_dir + 'images/' + image,img)\n",
      "/tmp/ipykernel_260300/1334087442.py:23: UserWarning: ./../../../docbank_processed/only_eqn/doctr/images/11.tar_1701.04715.gz_paper_1_ori_pro.jpg is a low contrast image\n",
      "  io.imsave(output_dir + 'images/' + image,img)\n",
      "/tmp/ipykernel_260300/1334087442.py:23: UserWarning: ./../../../docbank_processed/only_eqn/doctr/images/12.tar_1701.05337.gz_ms_14_ori_pro.jpg is a low contrast image\n",
      "  io.imsave(output_dir + 'images/' + image,img)\n",
      "/tmp/ipykernel_260300/1334087442.py:23: UserWarning: ./../../../docbank_processed/only_eqn/doctr/images/2.tar_1801.00617.gz_idempotents_arxiv_4_ori_pro.jpg is a low contrast image\n",
      "  io.imsave(output_dir + 'images/' + image,img)\n",
      "/tmp/ipykernel_260300/1334087442.py:23: UserWarning: ./../../../docbank_processed/only_eqn/doctr/images/63.tar_1504.07006.gz_mayak_arxiv_20141204_7_ori_pro.jpg is a low contrast image\n",
      "  io.imsave(output_dir + 'images/' + image,img)\n"
     ]
    }
   ],
   "source": [
    "dimensions = {}\n",
    "total = {}\n",
    "for image,result in results.items():\n",
    "    dim = tuple(reversed(result.pages[0].dimensions))\n",
    "    predictions = []\n",
    "    img = io.imread(os.path.join(input_dir,image))\n",
    "    for block in result.pages[0].blocks:\n",
    "        for line in block.lines:\n",
    "            for word in line.words:\n",
    "                values = []\n",
    "                geo = word.geometry\n",
    "                a = list(int(a*b) for a,b in zip(geo[0],dim))\n",
    "                b = list(int(a*b) for a,b in zip(geo[1],dim))\n",
    "                values.append(\"equation\")\n",
    "                values.append(word.confidence)\n",
    "                values.append(a[0])\n",
    "                values.append(a[1])\n",
    "                values.append(b[0]-a[0])\n",
    "                values.append(b[1]-a[1])\n",
    "                values.append(word.value)\n",
    "                predictions.append(values)\n",
    "                cv2.rectangle(img, (a[0], a[1]), (b[0], b[1]), (0, 0, 255))\n",
    "    io.imsave(output_dir + 'images/' + image,img)\n",
    "    total[image] = predictions"
   ]
  },
  {
   "cell_type": "markdown",
   "id": "79a94e15",
   "metadata": {},
   "source": [
    "### Store Results"
   ]
  },
  {
   "cell_type": "code",
   "execution_count": 6,
   "id": "992d6803",
   "metadata": {},
   "outputs": [],
   "source": [
    "for image,result in total.items():\n",
    "    name = image[:len(image) - 12]\n",
    "    df = pd.DataFrame(result, columns = ['label','confidence', 'x0', 'y0', 'w', 'h', 'prediction'])\n",
    "    df.to_csv(output_dir + 'txt/' + name + '.txt', sep=' ',index=False)"
   ]
  },
  {
   "cell_type": "code",
   "execution_count": 5,
   "id": "97556401",
   "metadata": {},
   "outputs": [],
   "source": [
    "for file in os.listdir(output_dir + 'txt'):\n",
    "    df = pd.read_csv(output_dir + 'txt/' + file, delimiter='\\t')\n",
    "    df.to_csv(output_dir + 'txt/' + file, sep=' ',index=False)"
   ]
  },
  {
   "cell_type": "code",
   "execution_count": null,
   "id": "73caa954",
   "metadata": {},
   "outputs": [],
   "source": []
  }
 ],
 "metadata": {
  "kernelspec": {
   "display_name": "Python 3 (ipykernel)",
   "language": "python",
   "name": "python3"
  },
  "language_info": {
   "codemirror_mode": {
    "name": "ipython",
    "version": 3
   },
   "file_extension": ".py",
   "mimetype": "text/x-python",
   "name": "python",
   "nbconvert_exporter": "python",
   "pygments_lexer": "ipython3",
   "version": "3.8.10"
  }
 },
 "nbformat": 4,
 "nbformat_minor": 5
}
